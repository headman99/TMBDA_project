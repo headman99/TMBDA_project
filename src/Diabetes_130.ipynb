{
  "cells": [
    {
      "cell_type": "code",
      "execution_count": null,
      "metadata": {
        "colab": {
          "base_uri": "https://localhost:8080/",
          "height": 712
        },
        "id": "BXF89xwyF3EC",
        "outputId": "a1e9f609-e460-4b52-f1b6-16f47daa53dd"
      },
      "outputs": [
        {
          "output_type": "stream",
          "name": "stdout",
          "text": [
            "\u001b[33m\r0% [Working]\u001b[0m\r            \rGet:1 https://cloud.r-project.org/bin/linux/ubuntu jammy-cran40/ InRelease [3,626 B]\n",
            "\u001b[33m\r0% [Waiting for headers] [Connecting to security.ubuntu.com (185.125.190.36)] [\u001b[0m\u001b[33m\r0% [Waiting for headers] [Connecting to security.ubuntu.com (185.125.190.36)] [\u001b[0m\r                                                                               \rHit:2 http://archive.ubuntu.com/ubuntu jammy InRelease\n",
            "\u001b[33m\r0% [Connecting to security.ubuntu.com (185.125.190.36)] [Connecting to ppa.laun\u001b[0m\r                                                                               \rHit:3 https://developer.download.nvidia.com/compute/cuda/repos/ubuntu2204/x86_64  InRelease\n",
            "\u001b[33m\r0% [Waiting for headers] [Waiting for headers] [Connected to ppa.launchpadconte\u001b[0m\r                                                                               \rGet:4 http://archive.ubuntu.com/ubuntu jammy-updates InRelease [119 kB]\n",
            "Get:5 http://security.ubuntu.com/ubuntu jammy-security InRelease [110 kB]\n",
            "Hit:6 http://archive.ubuntu.com/ubuntu jammy-backports InRelease\n",
            "Get:7 http://archive.ubuntu.com/ubuntu jammy-updates/main amd64 Packages [1,735 kB]\n",
            "Hit:8 https://ppa.launchpadcontent.net/c2d4u.team/c2d4u4.0+/ubuntu jammy InRelease\n",
            "Hit:9 https://ppa.launchpadcontent.net/deadsnakes/ppa/ubuntu jammy InRelease\n",
            "Get:10 http://archive.ubuntu.com/ubuntu jammy-updates/universe amd64 Packages [1,339 kB]\n",
            "Hit:11 https://ppa.launchpadcontent.net/graphics-drivers/ppa/ubuntu jammy InRelease\n",
            "Get:12 http://security.ubuntu.com/ubuntu jammy-security/universe amd64 Packages [1,068 kB]\n",
            "Hit:13 https://ppa.launchpadcontent.net/ubuntugis/ppa/ubuntu jammy InRelease\n",
            "Get:14 http://security.ubuntu.com/ubuntu jammy-security/restricted amd64 Packages [1,784 kB]\n",
            "Get:15 http://security.ubuntu.com/ubuntu jammy-security/main amd64 Packages [1,455 kB]\n",
            "Fetched 7,613 kB in 2s (4,397 kB/s)\n",
            "Reading package lists... Done\n",
            "Building dependency tree... Done\n",
            "Reading state information... Done\n",
            "33 packages can be upgraded. Run 'apt list --upgradable' to see them.\n",
            "tar: spark-3.2.1-bin-hadoop3.2.tgz: Cannot open: No such file or directory\n",
            "tar: Error is not recoverable: exiting now\n",
            "Collecting pyspark\n",
            "  Downloading pyspark-3.5.0.tar.gz (316.9 MB)\n",
            "\u001b[2K     \u001b[90m━━━━━━━━━━━━━━━━━━━━━━━━━━━━━━━━━━━━━━━━\u001b[0m \u001b[32m316.9/316.9 MB\u001b[0m \u001b[31m2.7 MB/s\u001b[0m eta \u001b[36m0:00:00\u001b[0m\n",
            "\u001b[?25h  Preparing metadata (setup.py) ... \u001b[?25l\u001b[?25hdone\n",
            "Requirement already satisfied: py4j==0.10.9.7 in /usr/local/lib/python3.10/dist-packages (from pyspark) (0.10.9.7)\n",
            "Building wheels for collected packages: pyspark\n",
            "  Building wheel for pyspark (setup.py) ... \u001b[?25l\u001b[?25hdone\n",
            "  Created wheel for pyspark: filename=pyspark-3.5.0-py2.py3-none-any.whl size=317425345 sha256=1bdc1707db062cc03eab97d5a86b56d8919ef1fd665b4a8be645f1af021530a3\n",
            "  Stored in directory: /root/.cache/pip/wheels/41/4e/10/c2cf2467f71c678cfc8a6b9ac9241e5e44a01940da8fbb17fc\n",
            "Successfully built pyspark\n",
            "Installing collected packages: pyspark\n",
            "Successfully installed pyspark-3.5.0\n",
            "Requirement already satisfied: py4j in /usr/local/lib/python3.10/dist-packages (0.10.9.7)\n",
            "Collecting ucimlrepo\n",
            "  Downloading ucimlrepo-0.0.3-py3-none-any.whl (7.0 kB)\n",
            "Installing collected packages: ucimlrepo\n",
            "Successfully installed ucimlrepo-0.0.3\n"
          ]
        },
        {
          "output_type": "execute_result",
          "data": {
            "text/plain": [
              "'/usr/local/lib/python3.10/dist-packages/pyspark'"
            ],
            "application/vnd.google.colaboratory.intrinsic+json": {
              "type": "string"
            }
          },
          "metadata": {},
          "execution_count": 1
        }
      ],
      "source": [
        "!sudo apt update\n",
        "!apt-get install openjdk-8-jdk-headless -qq > /dev/null\n",
        "#Check this site for the latest download link https://www.apache.org/dyn/closer.lua/spark/spark-3.2.1/spark-3.2.1-bin-hadoop3.2.tgz\n",
        "!wget -q https://dlcdn.apache.org/spark/spark-3.2.1/spark-3.2.1-bin-hadoop3.2.tgz\n",
        "!tar xf spark-3.2.1-bin-hadoop3.2.tgz\n",
        "!pip install -q findspark\n",
        "!pip install pyspark\n",
        "!pip install py4j\n",
        "!pip install ucimlrepo\n",
        "\n",
        "import os\n",
        "import sys\n",
        "# os.environ[\"JAVA_HOME\"] = \"/usr/lib/jvm/java-8-openjdk-amd64\"\n",
        "# os.environ[\"SPARK_HOME\"] = \"/content/spark-3.2.1-bin-hadoop3.2\"\n",
        "\n",
        "\n",
        "import findspark\n",
        "findspark.init()\n",
        "findspark.find()"
      ]
    },
    {
      "cell_type": "code",
      "execution_count": null,
      "metadata": {
        "id": "JzDZFdnsFuy8"
      },
      "outputs": [],
      "source": [
        "import matplotlib.pyplot as plt\n",
        "import numpy as np\n",
        "import pandas as pd\n",
        "from pandas import DataFrame\n",
        "from pyspark.sql import SparkSession\n",
        "from pyspark.ml import Pipeline\n",
        "from pyspark.ml.feature import VectorAssembler, StandardScaler, OneHotEncoder, StringIndexer, PolynomialExpansion, PCA\n",
        "from pyspark.sql.functions import col,isnan, when, count, udf, row_number,expr, skewness, log, countDistinct,monotonically_increasing_id, mean,stddev,min,max\n",
        "from pyspark.sql.types import StringType, IntegerType,DoubleType\n",
        "from pyspark.sql import Window\n",
        "from pyspark.ml.classification import LogisticRegression, DecisionTreeClassifier, GBTClassifier, LinearSVC, NaiveBayes, MultilayerPerceptronClassifier,RandomForestClassifier\n",
        "from pyspark.ml.evaluation import BinaryClassificationEvaluator ,RegressionEvaluator\n",
        "from imblearn.over_sampling import SMOTE\n",
        "from pyspark.ml.stat import Summarizer\n",
        "from ucimlrepo import fetch_ucirepo\n",
        "from sklearn.preprocessing import PolynomialFeatures"
      ]
    },
    {
      "cell_type": "code",
      "execution_count": null,
      "metadata": {
        "id": "cqsHofioFuzA"
      },
      "outputs": [],
      "source": [
        "# Get the spark session\n",
        "spark = SparkSession.builder.appName(\"Diabetes\").getOrCreate()\n",
        "spark.sparkContext.setLogLevel(\"ERROR\")\n",
        "\n",
        "# Define the random state\n",
        "random_state = 42"
      ]
    },
    {
      "cell_type": "markdown",
      "metadata": {
        "id": "CHj7CkVuZQbf"
      },
      "source": [
        "### The dataset represents ten years (1999-2008) of clinical care at 130 US hospitals and integrated delivery networks. Each row concerns hospital records of patients diagnosed with diabetes, who underwent laboratory, medications, and stayed up to 14 days. The goal is to determine the early readmission of the patient within 30 days of discharge."
      ]
    },
    {
      "cell_type": "markdown",
      "metadata": {
        "id": "7c0NHkrcZ0km"
      },
      "source": [
        "### Data exploration"
      ]
    },
    {
      "cell_type": "code",
      "execution_count": null,
      "metadata": {
        "colab": {
          "base_uri": "https://localhost:8080/"
        },
        "id": "b4sfgTJNFuzC",
        "outputId": "dae88d47-710d-4f18-db98-bf8241dc592e"
      },
      "outputs": [
        {
          "output_type": "stream",
          "name": "stderr",
          "text": [
            "/usr/local/lib/python3.10/dist-packages/ucimlrepo/fetch.py:97: DtypeWarning: Columns (10) have mixed types. Specify dtype option on import or set low_memory=False.\n",
            "  df = pd.read_csv(data_url)\n"
          ]
        }
      ],
      "source": [
        "# fetch dataset\n",
        "diabetes_130_us_hospitals_for_years_1999_2008 = fetch_ucirepo(id=296)\n",
        "\n",
        "# data (as pandas dataframes)\n",
        "df = diabetes_130_us_hospitals_for_years_1999_2008.data\n",
        "\n",
        "# convert pandas Dataframe into pyspark.sql.Dataframe\n",
        "concat = pd.concat([df.ids, df.features,df.targets], axis=1)\n",
        "df = spark.createDataFrame(concat)"
      ]
    },
    {
      "cell_type": "code",
      "execution_count": null,
      "metadata": {
        "colab": {
          "base_uri": "https://localhost:8080/"
        },
        "id": "5vb9UsQYFuzF",
        "outputId": "05216b3d-2d5f-4b89-960a-57fe9321a53e"
      },
      "outputs": [
        {
          "output_type": "stream",
          "name": "stdout",
          "text": [
            "Shape:  (101766, 50)\n"
          ]
        }
      ],
      "source": [
        "# Shape\n",
        "shape = (df.count(), len(df.columns))\n",
        "print(\"Shape: \",shape)"
      ]
    },
    {
      "cell_type": "code",
      "execution_count": null,
      "metadata": {
        "colab": {
          "base_uri": "https://localhost:8080/"
        },
        "id": "L99554YFFuzF",
        "outputId": "d70ece3e-6ca2-4bef-97ad-0c27b23ff42f"
      },
      "outputs": [
        {
          "output_type": "stream",
          "name": "stdout",
          "text": [
            "root\n",
            " |-- encounter_id: long (nullable = true)\n",
            " |-- patient_nbr: long (nullable = true)\n",
            " |-- race: string (nullable = true)\n",
            " |-- gender: string (nullable = true)\n",
            " |-- age: string (nullable = true)\n",
            " |-- weight: string (nullable = true)\n",
            " |-- admission_type_id: long (nullable = true)\n",
            " |-- discharge_disposition_id: long (nullable = true)\n",
            " |-- admission_source_id: long (nullable = true)\n",
            " |-- time_in_hospital: long (nullable = true)\n",
            " |-- payer_code: string (nullable = true)\n",
            " |-- medical_specialty: string (nullable = true)\n",
            " |-- num_lab_procedures: long (nullable = true)\n",
            " |-- num_procedures: long (nullable = true)\n",
            " |-- num_medications: long (nullable = true)\n",
            " |-- number_outpatient: long (nullable = true)\n",
            " |-- number_emergency: long (nullable = true)\n",
            " |-- number_inpatient: long (nullable = true)\n",
            " |-- diag_1: string (nullable = true)\n",
            " |-- diag_2: string (nullable = true)\n",
            " |-- diag_3: string (nullable = true)\n",
            " |-- number_diagnoses: long (nullable = true)\n",
            " |-- max_glu_serum: string (nullable = true)\n",
            " |-- A1Cresult: string (nullable = true)\n",
            " |-- metformin: string (nullable = true)\n",
            " |-- repaglinide: string (nullable = true)\n",
            " |-- nateglinide: string (nullable = true)\n",
            " |-- chlorpropamide: string (nullable = true)\n",
            " |-- glimepiride: string (nullable = true)\n",
            " |-- acetohexamide: string (nullable = true)\n",
            " |-- glipizide: string (nullable = true)\n",
            " |-- glyburide: string (nullable = true)\n",
            " |-- tolbutamide: string (nullable = true)\n",
            " |-- pioglitazone: string (nullable = true)\n",
            " |-- rosiglitazone: string (nullable = true)\n",
            " |-- acarbose: string (nullable = true)\n",
            " |-- miglitol: string (nullable = true)\n",
            " |-- troglitazone: string (nullable = true)\n",
            " |-- tolazamide: string (nullable = true)\n",
            " |-- examide: string (nullable = true)\n",
            " |-- citoglipton: string (nullable = true)\n",
            " |-- insulin: string (nullable = true)\n",
            " |-- glyburide-metformin: string (nullable = true)\n",
            " |-- glipizide-metformin: string (nullable = true)\n",
            " |-- glimepiride-pioglitazone: string (nullable = true)\n",
            " |-- metformin-rosiglitazone: string (nullable = true)\n",
            " |-- metformin-pioglitazone: string (nullable = true)\n",
            " |-- change: string (nullable = true)\n",
            " |-- diabetesMed: string (nullable = true)\n",
            " |-- readmitted: string (nullable = true)\n",
            "\n",
            "None\n"
          ]
        }
      ],
      "source": [
        "# Show the features\n",
        "print(df.printSchema())"
      ]
    },
    {
      "cell_type": "code",
      "execution_count": null,
      "metadata": {
        "colab": {
          "base_uri": "https://localhost:8080/"
        },
        "id": "xMbQQ5C8FuzG",
        "outputId": "09958fbc-84f7-482a-9d8d-6e97b83a9468"
      },
      "outputs": [
        {
          "output_type": "stream",
          "name": "stdout",
          "text": [
            "+-------+--------------------+--------------------+---------------+---------------+--------+--------+------------------+------------------------+-------------------+-----------------+----------+--------------------+------------------+------------------+------------------+-------------------+-------------------+------------------+------+------+------+------------------+-------------+---------+---------+-----------+-----------+--------------+-----------+-------------+---------+---------+-----------+------------+-------------+--------+--------+------------+----------+-------+-----------+-------+-------------------+-------------------+------------------------+-----------------------+----------------------+------+-----------+----------+\n",
            "|summary|        encounter_id|         patient_nbr|           race|         gender|     age|  weight| admission_type_id|discharge_disposition_id|admission_source_id| time_in_hospital|payer_code|   medical_specialty|num_lab_procedures|    num_procedures|   num_medications|  number_outpatient|   number_emergency|  number_inpatient|diag_1|diag_2|diag_3|  number_diagnoses|max_glu_serum|A1Cresult|metformin|repaglinide|nateglinide|chlorpropamide|glimepiride|acetohexamide|glipizide|glyburide|tolbutamide|pioglitazone|rosiglitazone|acarbose|miglitol|troglitazone|tolazamide|examide|citoglipton|insulin|glyburide-metformin|glipizide-metformin|glimepiride-pioglitazone|metformin-rosiglitazone|metformin-pioglitazone|change|diabetesMed|readmitted|\n",
            "+-------+--------------------+--------------------+---------------+---------------+--------+--------+------------------+------------------------+-------------------+-----------------+----------+--------------------+------------------+------------------+------------------+-------------------+-------------------+------------------+------+------+------+------------------+-------------+---------+---------+-----------+-----------+--------------+-----------+-------------+---------+---------+-----------+------------+-------------+--------+--------+------------+----------+-------+-----------+-------+-------------------+-------------------+------------------------+-----------------------+----------------------+------+-----------+----------+\n",
            "|  count|              101766|              101766|         101766|         101766|  101766|  101766|            101766|                  101766|             101766|           101766|    101766|              101766|            101766|            101766|            101766|             101766|             101766|            101766|101766|101766|101766|            101766|       101766|   101766|   101766|     101766|     101766|        101766|     101766|       101766|   101766|   101766|     101766|      101766|       101766|  101766|  101766|      101766|    101766| 101766|     101766| 101766|             101766|             101766|                  101766|                 101766|                101766|101766|     101766|    101766|\n",
            "|   mean| 1.652016456229782E8|5.4330400694947235E7|            NaN|           NULL|    NULL|     NaN| 2.024006053102215|      3.7156417664052825|  5.754436648782501|4.395986871843248|       NaN|                 NaN| 43.09564098028811| 1.339730361810428|16.021844230882614|0.36935715268360747|0.19783621248747127| 0.635565906098304|   NaN|   NaN|   NaN| 7.422606764538254|         NULL|     NULL|     NULL|       NULL|       NULL|          NULL|       NULL|         NULL|     NULL|     NULL|       NULL|        NULL|         NULL|    NULL|    NULL|        NULL|      NULL|   NULL|       NULL|   NULL|               NULL|               NULL|                    NULL|                   NULL|                  NULL|  NULL|       NULL|      NULL|\n",
            "| stddev|1.0264029598345664E8| 3.869635934653427E7|            NaN|           NULL|    NULL|     NaN|1.4454028297561206|       5.280165509299281|  4.064080834283891|2.985107767471263|       NaN|                 NaN| 19.67436224914212|1.7058069791211623| 8.127566209167304|  1.267265096532675| 0.9304722684224591|1.2628632900973231|   NaN|   NaN|   NaN|1.9336001449974256|         NULL|     NULL|     NULL|       NULL|       NULL|          NULL|       NULL|         NULL|     NULL|     NULL|       NULL|        NULL|         NULL|    NULL|    NULL|        NULL|      NULL|   NULL|       NULL|   NULL|               NULL|               NULL|                    NULL|                   NULL|                  NULL|  NULL|       NULL|      NULL|\n",
            "|    min|               12522|                 135|AfricanAmerican|         Female|  [0-10)|    >200|                 1|                       1|                  1|                1|        BC|AllergyandImmunology|                 1|                 0|                 1|                  0|                  0|                 0|    10|    11|    11|                 1|         >200|       >7|     Down|       Down|       Down|          Down|       Down|           No|     Down|     Down|         No|        Down|         Down|    Down|    Down|          No|        No|     No|         No|   Down|               Down|                 No|                      No|                     No|                    No|    Ch|         No|       <30|\n",
            "|    max|           443867222|           189502619|          Other|Unknown/Invalid|[90-100)|[75-100)|                 8|                      28|                 25|               14|        WC|             Urology|               132|                 6|                81|                 42|                 76|                21|   V71|   V86|   V86|                16|         Norm|     Norm|       Up|         Up|         Up|            Up|         Up|       Steady|       Up|       Up|     Steady|          Up|           Up|      Up|      Up|      Steady|        Up|     No|         No|     Up|                 Up|             Steady|                  Steady|                 Steady|                Steady|    No|        Yes|        NO|\n",
            "+-------+--------------------+--------------------+---------------+---------------+--------+--------+------------------+------------------------+-------------------+-----------------+----------+--------------------+------------------+------------------+------------------+-------------------+-------------------+------------------+------+------+------+------------------+-------------+---------+---------+-----------+-----------+--------------+-----------+-------------+---------+---------+-----------+------------+-------------+--------+--------+------------+----------+-------+-----------+-------+-------------------+-------------------+------------------------+-----------------------+----------------------+------+-----------+----------+\n",
            "\n"
          ]
        }
      ],
      "source": [
        "# Show a description of the whole dataset\n",
        "stats = df.describe(df.columns)\n",
        "stats.show()"
      ]
    },
    {
      "cell_type": "code",
      "execution_count": null,
      "metadata": {
        "colab": {
          "base_uri": "https://localhost:8080/"
        },
        "id": "jKga2ZVnniVQ",
        "outputId": "f2cf6ee5-668e-4e8f-f20a-47cf6466bec2"
      },
      "outputs": [
        {
          "output_type": "stream",
          "name": "stdout",
          "text": [
            ">30 statistics\n",
            "+-------+--------------------+-------------------+---------------+------+--------+--------+------------------+------------------------+-------------------+-----------------+----------+--------------------+------------------+------------------+-----------------+------------------+-------------------+------------------+------+------+------+------------------+-------------+---------+---------+-----------+-----------+--------------+-----------+-------------+---------+---------+-----------+------------+-------------+--------+--------+------------+----------+-------+-----------+-------+-------------------+-------------------+------------------------+-----------------------+----------------------+------+-----------+----------+\n",
            "|summary|        encounter_id|        patient_nbr|           race|gender|     age|  weight| admission_type_id|discharge_disposition_id|admission_source_id| time_in_hospital|payer_code|   medical_specialty|num_lab_procedures|    num_procedures|  num_medications| number_outpatient|   number_emergency|  number_inpatient|diag_1|diag_2|diag_3|  number_diagnoses|max_glu_serum|A1Cresult|metformin|repaglinide|nateglinide|chlorpropamide|glimepiride|acetohexamide|glipizide|glyburide|tolbutamide|pioglitazone|rosiglitazone|acarbose|miglitol|troglitazone|tolazamide|examide|citoglipton|insulin|glyburide-metformin|glipizide-metformin|glimepiride-pioglitazone|metformin-rosiglitazone|metformin-pioglitazone|change|diabetesMed|readmitted|\n",
            "+-------+--------------------+-------------------+---------------+------+--------+--------+------------------+------------------------+-------------------+-----------------+----------+--------------------+------------------+------------------+-----------------+------------------+-------------------+------------------+------+------+------+------------------+-------------+---------+---------+-----------+-----------+--------------+-----------+-------------+---------+---------+-----------+------------+-------------+--------+--------+------------+----------+-------+-----------+-------+-------------------+-------------------+------------------------+-----------------------+----------------------+------+-----------+----------+\n",
            "|  count|               35545|              35545|          35545| 35545|   35545|   35545|             35545|                   35545|              35545|            35545|     35545|               35545|             35545|             35545|            35545|             35545|              35545|             35545| 35545| 35545| 35545|             35545|        35545|    35545|    35545|      35545|      35545|         35545|      35545|        35545|    35545|    35545|      35545|       35545|        35545|   35545|   35545|       35545|     35545|  35545|      35545|  35545|              35545|              35545|                   35545|                  35545|                 35545| 35545|      35545|     35545|\n",
            "|   mean|1.6038453779074413E8|5.814674837659305E7|            NaN|  NULL|    NULL|     NaN|2.0290336193557463|      3.3630609087072725|  5.965030243353495|4.495540863693909|       NaN|                 NaN| 43.83660149106766| 1.249599099732733|16.28276832184555|0.4963285975523984|0.28366858911239273|0.8389928259952173|   NaN|   NaN|   NaN| 7.646898297932198|         NULL|     NULL|     NULL|       NULL|       NULL|          NULL|       NULL|         NULL|     NULL|     NULL|       NULL|        NULL|         NULL|    NULL|    NULL|        NULL|      NULL|   NULL|       NULL|   NULL|               NULL|               NULL|                    NULL|                   NULL|                  NULL|  NULL|       NULL|      NULL|\n",
            "| stddev|  9.62124880753417E7|3.661425270966796E7|            NaN|  NULL|    NULL|     NaN|1.4931198399413652|      4.8400993188239045|  4.057887498529587|2.988063992678933|       NaN|                 NaN| 19.56751542334937|1.6695357657992853|7.618829245387197|1.5440469171441837| 1.1949888053362745|1.3932649233811751|   NaN|   NaN|   NaN|1.8120779525802375|         NULL|     NULL|     NULL|       NULL|       NULL|          NULL|       NULL|         NULL|     NULL|     NULL|       NULL|        NULL|         NULL|    NULL|    NULL|        NULL|      NULL|   NULL|       NULL|   NULL|               NULL|               NULL|                    NULL|                   NULL|                  NULL|  NULL|       NULL|      NULL|\n",
            "|    min|               28236|                135|AfricanAmerican|Female|  [0-10)|    >200|                 1|                       1|                  1|                1|        BC|AllergyandImmunology|                 1|                 0|                1|                 0|                  0|                 0|    11|    11|   110|                 1|         >200|       >7|     Down|       Down|       Down|            No|       Down|           No|     Down|     Down|         No|        Down|         Down|    Down|    Down|          No|        No|     No|         No|   Down|                 No|                 No|                      No|                     No|                    No|    Ch|         No|       >30|\n",
            "|    max|           443847548|          189481478|          Other|  Male|[90-100)|[75-100)|                 8|                      28|                 22|               14|        WC|             Urology|               129|                 6|               70|                42|                 76|                19|   V71|   V86|   V86|                16|         Norm|     Norm|       Up|         Up|         Up|            Up|         Up|       Steady|       Up|       Up|     Steady|          Up|           Up|      Up|      Up|      Steady|        Up|     No|         No|     Up|                 Up|             Steady|                  Steady|                     No|                    No|    No|        Yes|       >30|\n",
            "+-------+--------------------+-------------------+---------------+------+--------+--------+------------------+------------------------+-------------------+-----------------+----------+--------------------+------------------+------------------+-----------------+------------------+-------------------+------------------+------+------+------+------------------+-------------+---------+---------+-----------+-----------+--------------+-----------+-------------+---------+---------+-----------+------------+-------------+--------+--------+------------+----------+-------+-----------+-------+-------------------+-------------------+------------------------+-----------------------+----------------------+------+-----------+----------+\n",
            "\n",
            "----------------------------------------\n",
            "NO statistics\n",
            "+-------+--------------------+--------------------+---------------+---------------+--------+--------+------------------+------------------------+-------------------+------------------+----------+--------------------+------------------+------------------+------------------+------------------+-------------------+------------------+------+------+------+------------------+-------------+---------+---------+-----------+-----------+--------------+-----------+-------------+---------+---------+-----------+------------+-------------+--------+--------+------------+----------+-------+-----------+-------+-------------------+-------------------+------------------------+-----------------------+----------------------+------+-----------+----------+\n",
            "|summary|        encounter_id|         patient_nbr|           race|         gender|     age|  weight| admission_type_id|discharge_disposition_id|admission_source_id|  time_in_hospital|payer_code|   medical_specialty|num_lab_procedures|    num_procedures|   num_medications| number_outpatient|   number_emergency|  number_inpatient|diag_1|diag_2|diag_3|  number_diagnoses|max_glu_serum|A1Cresult|metformin|repaglinide|nateglinide|chlorpropamide|glimepiride|acetohexamide|glipizide|glyburide|tolbutamide|pioglitazone|rosiglitazone|acarbose|miglitol|troglitazone|tolazamide|examide|citoglipton|insulin|glyburide-metformin|glipizide-metformin|glimepiride-pioglitazone|metformin-rosiglitazone|metformin-pioglitazone|change|diabetesMed|readmitted|\n",
            "+-------+--------------------+--------------------+---------------+---------------+--------+--------+------------------+------------------------+-------------------+------------------+----------+--------------------+------------------+------------------+------------------+------------------+-------------------+------------------+------+------+------+------------------+-------------+---------+---------+-----------+-----------+--------------+-----------+-------------+---------+---------+-----------+------------+-------------+--------+--------+------------+----------+-------+-----------+-------+-------------------+-------------------+------------------------+-----------------------+----------------------+------+-----------+----------+\n",
            "|  count|               54864|               54864|          54864|          54864|   54864|   54864|             54864|                   54864|              54864|             54864|     54864|               54864|             54864|             54864|             54864|             54864|              54864|             54864| 54864| 54864| 54864|             54864|        54864|    54864|    54864|      54864|      54864|         54864|      54864|        54864|    54864|    54864|      54864|       54864|        54864|   54864|   54864|       54864|     54864|  54864|      54864|  54864|              54864|              54864|                   54864|                  54864|                 54864| 54864|      54864|     54864|\n",
            "|   mean|1.6883319075313503E8|5.1679493095034994E7|            NaN|           NULL|    NULL|     NaN|2.0305847185768444|      3.7881488772236804|  5.604184893554972| 4.254429133858268|       NaN|                 NaN| 42.38159813356664|1.4103054826480024|15.670366724992709|0.2731116943715369|0.10921551472732575|0.3819626713327501|   NaN|   NaN|   NaN| 7.221365558471858|         NULL|     NULL|     NULL|       NULL|       NULL|          NULL|       NULL|         NULL|     NULL|     NULL|       NULL|        NULL|         NULL|    NULL|    NULL|        NULL|      NULL|   NULL|       NULL|   NULL|               NULL|               NULL|                    NULL|                   NULL|                  NULL|  NULL|       NULL|      NULL|\n",
            "| stddev|1.0663274742658874E8| 3.995695191148592E7|            NaN|           NULL|    NULL|     NaN|1.4182463162157295|       5.356517690035709|  4.082347053352822|2.9649644875843637|       NaN|                 NaN|19.796262303612735|1.7396930143748477| 8.427627720510976|1.0307035222020102| 0.5236088305069225| 0.864301416068934|   NaN|   NaN|   NaN|2.0170541110995193|         NULL|     NULL|     NULL|       NULL|       NULL|          NULL|       NULL|         NULL|     NULL|     NULL|       NULL|        NULL|         NULL|    NULL|    NULL|        NULL|      NULL|   NULL|       NULL|   NULL|               NULL|               NULL|                    NULL|                   NULL|                  NULL|  NULL|       NULL|      NULL|\n",
            "|    min|               12522|                 378|AfricanAmerican|         Female|  [0-10)|     NaN|                 1|                       1|                  1|                 1|        BC|AllergyandImmunology|                 1|                 0|                 1|                 0|                  0|                 0|    10|    11|    11|                 1|         >200|       >7|     Down|       Down|       Down|          Down|       Down|           No|     Down|     Down|         No|        Down|         Down|    Down|      No|          No|        No|     No|         No|   Down|               Down|                 No|                      No|                     No|                    No|    Ch|         No|        NO|\n",
            "|    max|           443867222|           189502619|          Other|Unknown/Invalid|[90-100)|[75-100)|                 8|                      28|                 25|                14|        WC|             Urology|               126|                 6|                79|                36|                 37|                16|   V71|   V86|   V86|                16|         Norm|     Norm|       Up|         Up|         Up|            Up|         Up|           No|       Up|       Up|     Steady|          Up|           Up|      Up|      Up|      Steady|    Steady|     No|         No|     Up|                 Up|             Steady|                      No|                 Steady|                Steady|    No|        Yes|        NO|\n",
            "+-------+--------------------+--------------------+---------------+---------------+--------+--------+------------------+------------------------+-------------------+------------------+----------+--------------------+------------------+------------------+------------------+------------------+-------------------+------------------+------+------+------+------------------+-------------+---------+---------+-----------+-----------+--------------+-----------+-------------+---------+---------+-----------+------------+-------------+--------+--------+------------+----------+-------+-----------+-------+-------------------+-------------------+------------------------+-----------------------+----------------------+------+-----------+----------+\n",
            "\n",
            "----------------------------------------\n",
            "<30 statistics\n",
            "+-------+--------------------+--------------------+---------------+------+--------+--------+------------------+------------------------+-------------------+-----------------+----------+--------------------+------------------+------------------+------------------+------------------+------------------+------------------+------+------+------+------------------+-------------+---------+---------+-----------+-----------+--------------+-----------+-------------+---------+---------+-----------+------------+-------------+--------+--------+------------+----------+-------+-----------+-------+-------------------+-------------------+------------------------+-----------------------+----------------------+------+-----------+----------+\n",
            "|summary|        encounter_id|         patient_nbr|           race|gender|     age|  weight| admission_type_id|discharge_disposition_id|admission_source_id| time_in_hospital|payer_code|   medical_specialty|num_lab_procedures|    num_procedures|   num_medications| number_outpatient|  number_emergency|  number_inpatient|diag_1|diag_2|diag_3|  number_diagnoses|max_glu_serum|A1Cresult|metformin|repaglinide|nateglinide|chlorpropamide|glimepiride|acetohexamide|glipizide|glyburide|tolbutamide|pioglitazone|rosiglitazone|acarbose|miglitol|troglitazone|tolazamide|examide|citoglipton|insulin|glyburide-metformin|glipizide-metformin|glimepiride-pioglitazone|metformin-rosiglitazone|metformin-pioglitazone|change|diabetesMed|readmitted|\n",
            "+-------+--------------------+--------------------+---------------+------+--------+--------+------------------+------------------------+-------------------+-----------------+----------+--------------------+------------------+------------------+------------------+------------------+------------------+------------------+------+------+------+------------------+-------------+---------+---------+-----------+-----------+--------------+-----------+-------------+---------+---------+-----------+------------+-------------+--------+--------+------------+----------+-------+-----------+-------+-------------------+-------------------+------------------------+-----------------------+----------------------+------+-----------+----------+\n",
            "|  count|               11357|               11357|          11357| 11357|   11357|   11357|             11357|                   11357|              11357|            11357|     11357|               11357|             11357|             11357|             11357|             11357|             11357|             11357| 11357| 11357| 11357|             11357|        11357|    11357|    11357|      11357|      11357|         11357|      11357|        11357|    11357|    11357|      11357|       11357|        11357|   11357|   11357|       11357|     11357|  11357|      11357|  11357|              11357|              11357|                   11357|                  11357|                 11357| 11357|      11357|     11357|\n",
            "|   mean| 1.627347094493264E8|5.5192187805758566E7|            NaN|  NULL|    NULL|     NaN|1.9764902703178657|        4.46887382231223|  5.821167561856124|4.768248657215814|       NaN|                 NaN| 44.22602800035221|1.2808840362771858|16.903143435766488|0.4369111561151713|0.3573126705996302| 1.224002817645505|   NaN|   NaN|   NaN| 7.692788588535705|         NULL|     NULL|     NULL|       NULL|       NULL|          NULL|       NULL|         NULL|     NULL|     NULL|       NULL|        NULL|         NULL|    NULL|    NULL|        NULL|      NULL|   NULL|       NULL|   NULL|               NULL|               NULL|                    NULL|                   NULL|                  NULL|  NULL|       NULL|      NULL|\n",
            "| stddev|1.0177734403607316E8| 3.780441659745738E7|            NaN|  NULL|    NULL|     NaN|1.4226171781707573|       6.076115816713947| 3.9630624492414555|3.028164588272837|       NaN|                 NaN|19.276086806039974| 1.635991693250171| 8.096696007837874|1.3027880405896664|1.3703839607776214|1.9545770209286528|   NaN|   NaN|   NaN|1.7734773342227603|         NULL|     NULL|     NULL|       NULL|       NULL|          NULL|       NULL|         NULL|     NULL|     NULL|       NULL|        NULL|         NULL|    NULL|    NULL|        NULL|      NULL|   NULL|       NULL|   NULL|               NULL|               NULL|                    NULL|                   NULL|                  NULL|  NULL|       NULL|      NULL|\n",
            "|    min|               36900|                 135|AfricanAmerican|Female|  [0-10)|     NaN|                 1|                       1|                  1|                1|        BC|AllergyandImmunology|                 1|                 0|                 1|                 0|                 0|                 0|   112|    11|    11|                 1|         >200|       >7|     Down|       Down|       Down|            No|       Down|           No|     Down|     Down|         No|        Down|         Down|    Down|    Down|          No|        No|     No|         No|   Down|               Down|                 No|                      No|                     No|                    No|    Ch|         No|       <30|\n",
            "|    max|           443824292|           188970179|          Other|  Male|[90-100)|[75-100)|                 8|                      28|                 22|               14|        WC|             Urology|               132|                 6|                81|                40|                64|                21|   V63|   V85|   V85|                16|         Norm|     Norm|       Up|         Up|         Up|        Steady|         Up|           No|       Up|       Up|     Steady|          Up|           Up|      Up|  Steady|          No|    Steady|     No|         No|     Up|             Steady|             Steady|                      No|                     No|                    No|    No|        Yes|       <30|\n",
            "+-------+--------------------+--------------------+---------------+------+--------+--------+------------------+------------------------+-------------------+-----------------+----------+--------------------+------------------+------------------+------------------+------------------+------------------+------------------+------+------+------+------------------+-------------+---------+---------+-----------+-----------+--------------+-----------+-------------+---------+---------+-----------+------------+-------------+--------+--------+------------+----------+-------+-----------+-------+-------------------+-------------------+------------------------+-----------------------+----------------------+------+-----------+----------+\n",
            "\n",
            "----------------------------------------\n"
          ]
        }
      ],
      "source": [
        "# Show a description per class\n",
        "\n",
        "label_distinct = df.select('readmitted').distinct().collect()\n",
        "\n",
        "for label in label_distinct:\n",
        "  label_x = df.filter(col('readmitted') == label.readmitted)\n",
        "  print(\"{} statistics\".format(label.readmitted))\n",
        "  label_x.describe(label_x.columns).show()\n",
        "  print('-'*40)"
      ]
    },
    {
      "cell_type": "code",
      "execution_count": null,
      "metadata": {
        "colab": {
          "base_uri": "https://localhost:8080/",
          "height": 406
        },
        "id": "875b00n_o9XF",
        "outputId": "8a0ff6ea-73d2-4775-bdfb-cc0fb0480a51"
      },
      "outputs": [
        {
          "output_type": "display_data",
          "data": {
            "text/plain": [
              "<Figure size 640x480 with 1 Axes>"
            ],
            "image/png": "[encoded data removed]"
          },
          "metadata": {}
        }
      ],
      "source": [
        "# Calculate frequencies\n",
        "frequency_label = df.groupBy(\"readmitted\").count().orderBy(\"readmitted\")\n",
        "\n",
        "# Convert to Pandas DataFrame\n",
        "pandas_df = frequency_label.toPandas()\n",
        "\n",
        "plt.pie(pandas_df['count'], labels=pandas_df['readmitted'], autopct='%1.1f%%', startangle=90)\n",
        "plt.axis('equal')  # Equal aspect ratio ensures that pie is drawn as a circle.\n",
        "\n",
        "# Show the plot\n",
        "plt.show()"
      ]
    },
    {
      "cell_type": "code",
      "execution_count": null,
      "metadata": {
        "id": "Ef-srBFd6VrY"
      },
      "outputs": [],
      "source": [
        "plt.show()"
      ]
    },
    {
      "cell_type": "markdown",
      "metadata": {
        "id": "rFuL1jF7bHjt"
      },
      "source": [
        "Let's explore all the unique values of the features"
      ]
    },
    {
      "cell_type": "code",
      "execution_count": null,
      "metadata": {
        "colab": {
          "base_uri": "https://localhost:8080/"
        },
        "id": "c9jFIPPfbHjt",
        "outputId": "8b1617df-37d5-4f09-d910-2ce5394e7529"
      },
      "outputs": [
        {
          "output_type": "stream",
          "name": "stdout",
          "text": [
            "encounter_id: [3712782, 4129332, 5243178, 8282970, 8973804, 9240906, 10128264, 11296476, 12457776, 12559926, 12561348, 13055892, 14592780, 14803422, 16240908, 17428164, 17699964, 18080190, 18548208, 21409206, 21576 ...\n",
            "patient_nbr: [108453753, 96165, 55426896, 3616155, 3210228, 22668696, 3423933, 14967477, 3688560, 7303995, 2156832, 6921432, 23794407, 4951764, 4811301, 91565334, 76337586, 10422, 18035145, 924264, 6548697, 104792 ...\n",
            "race: ['Caucasian', 'Other', 'AfricanAmerican', 'NaN', 'Hispanic', 'Asian']\n",
            "gender: ['Female', 'Unknown/Invalid', 'Male']\n",
            "age: ['[70-80)', '[90-100)', '[40-50)', '[10-20)', '[20-30)', '[30-40)', '[0-10)', '[80-90)', '[50-60)', '[60-70)']\n",
            "weight: ['[150-175)', '[125-150)', '[0-25)', '[25-50)', '[75-100)', '[175-200)', 'NaN', '[100-125)', '>200', '[50-75)']\n",
            "admission_type_id: [7, 6, 5, 1, 3, 8, 2, 4]\n",
            "discharge_disposition_id: [19, 22, 7, 25, 6, 9, 27, 17, 28, 5, 1, 10, 3, 12, 8, 11, 2, 4, 13, 18, 14, 15, 23, 20, 16, 24]\n",
            "admission_source_id: [7, 6, 9, 17, 5, 1, 10, 3, 8, 2, 4, 14, 20, 22, 25, 11, 13]\n",
            "time_in_hospital: [7, 6, 9, 5, 1, 10, 3, 12, 8, 11, 2, 4, 13, 14]\n",
            "payer_code: ['WC', 'BC', 'MD', 'SP', 'PO', 'OG', 'CM', 'CH', 'MC', 'NaN', 'UN', 'DM', 'CP', 'SI', 'OT', 'HM', 'FR', 'MP']\n",
            "medical_specialty: ['Pediatrics-AllergyandImmunology', 'Pediatrics-Neurology', 'Orthopedics-Reconstructive', 'Obstetrics', 'ObstetricsandGynecology', 'Surgery-Colon&Rectal', 'Speech', 'Psychiatry-Addictive', 'Nephrology ...\n",
            "num_lab_procedures: [29, 26, 65, 19, 54, 113, 22, 77, 7, 34, 50, 94, 57, 43, 32, 84, 31, 39, 98, 25, 95, 71, 68, 6, 87, 72, 58, 107, 9, 27, 63, 51, 56, 52, 17, 79, 103, 41, 33, 28, 88, 114, 5, 1, 96, 104, 10, 120, 89, 85 ...\n",
            "num_procedures: [0, 6, 5, 1, 3, 2, 4]\n",
            "num_medications: [26, 29, 65, 19, 54, 22, 7, 34, 50, 57, 32, 43, 31, 39, 25, 6, 68, 58, 9, 27, 63, 51, 56, 52, 17, 79, 41, 28, 33, 5, 1, 10, 48, 67, 44, 61, 3, 37, 12, 55, 8, 62, 11, 49, 35, 2, 66, 4, 13, 36, 75, 18,  ...\n",
            "number_outpatient: [29, 0, 7, 6, 9, 17, 5, 1, 10, 3, 12, 8, 11, 35, 2, 4, 13, 36, 14, 21, 15, 20, 16, 26, 19, 22, 34, 39, 25, 27, 33, 28, 37, 18, 38, 42, 23, 40, 24]\n",
            "number_emergency: [0, 22, 7, 25, 6, 9, 28, 5, 1, 10, 3, 8, 11, 2, 4, 13, 42, 16, 29, 19, 54, 63, 37, 12, 76, 18, 14, 21, 15, 46, 20, 64, 24]\n",
            "number_inpatient: [0, 7, 6, 9, 17, 5, 1, 10, 3, 12, 8, 11, 2, 4, 13, 18, 14, 21, 15, 16, 19]\n",
            "diag_1: ['296', '691', '451', '853', '800', '870', '250.01', '447', '591', '7', '574', '475', '718', '307', '577', '581', '205', '747', '334', '462', '711', '647', '442', '272', '470', '282', '54', '383', '44 ...\n",
            "diag_2: ['296', '691', '451', 'V72', '800', '919', '870', '250.01', '447', '591', '574', '718', '307', '475', '577', '581', '205', 'E858', '747', '462', '272', '711', '470', '647', '442', 'E870', '54', '282', ...\n",
            "diag_3: ['296', '451', 'E876', 'V72', '944', '919', '870', '250.01', '591', '447', '7', '574', '307', '718', '581', '577', '334', 'E816', '205', 'E858', '747', '711', '272', '442', '647', '462', '470', '54',  ...\n",
            "number_diagnoses: [7, 6, 9, 5, 1, 3, 8, 2, 4, 10, 12, 11, 13, 14, 15, 16]\n",
            "max_glu_serum: ['None', '>300', 'Norm', '>200']\n",
            "A1Cresult: ['None', '>8', 'Norm', '>7']\n",
            "metformin: ['Steady', 'Up', 'No', 'Down']\n",
            "repaglinide: ['Steady', 'Up', 'No', 'Down']\n",
            "nateglinide: ['Steady', 'Up', 'No', 'Down']\n",
            "chlorpropamide: ['Steady', 'Up', 'No', 'Down']\n",
            "glimepiride: ['Steady', 'Up', 'No', 'Down']\n",
            "acetohexamide: ['Steady', 'No']\n",
            "glipizide: ['Steady', 'Up', 'No', 'Down']\n",
            "glyburide: ['Steady', 'Up', 'No', 'Down']\n",
            "tolbutamide: ['Steady', 'No']\n",
            "pioglitazone: ['Steady', 'Up', 'No', 'Down']\n",
            "rosiglitazone: ['Steady', 'Up', 'No', 'Down']\n",
            "acarbose: ['Steady', 'Up', 'No', 'Down']\n",
            "miglitol: ['Steady', 'No', 'Down', 'Up']\n",
            "troglitazone: ['Steady', 'No']\n",
            "tolazamide: ['Steady', 'Up', 'No']\n",
            "examide: ['No']\n",
            "citoglipton: ['No']\n",
            "insulin: ['Steady', 'Up', 'No', 'Down']\n",
            "glyburide-metformin: ['Steady', 'Up', 'No', 'Down']\n",
            "glipizide-metformin: ['Steady', 'No']\n",
            "glimepiride-pioglitazone: ['No', 'Steady']\n",
            "metformin-rosiglitazone: ['No', 'Steady']\n",
            "metformin-pioglitazone: ['No', 'Steady']\n",
            "change: ['Ch', 'No']\n",
            "diabetesMed: ['No', 'Yes']\n",
            "readmitted: ['>30', 'NO', '<30']\n"
          ]
        }
      ],
      "source": [
        "max_length = 200\n",
        "\n",
        "for column in df.columns:\n",
        "    unique_values = df.select(column).distinct().collect()\n",
        "    unique_values_list = [row[column] for row in unique_values]\n",
        "    if len(str(unique_values_list) )<=200:\n",
        "        print(f\"{column}: {str(unique_values_list)}\")\n",
        "    else:\n",
        "        print(f\"{column}: {str(unique_values_list)[:max_length]} ...\")"
      ]
    },
    {
      "cell_type": "markdown",
      "metadata": {
        "id": "ZHJblJgfbRx1"
      },
      "source": [
        "As we can see the columns: \"examide\" and \"citoglipton\" have only one unique value. We'll drop these columns because they don't play any relevant role in term of classification.\n",
        "Moreover we will drop all the rows having NaN as race and \"Unknown/Invalid\" as genre because we can make no distinction of patients based on non defined values for these features."
      ]
    },
    {
      "cell_type": "markdown",
      "metadata": {
        "id": "CVmwl6tnFuzG"
      },
      "source": [
        "### Feature Selection"
      ]
    },
    {
      "cell_type": "markdown",
      "metadata": {
        "id": "nRFsqvOn7P2v"
      },
      "source": [
        "There are multiple rows referring to same patient. One of the assumptions of the Logistic Classifier is that the observations need to\n",
        "be considered as statistically independent, something that cannot be granted in this case. Let's then take only the first inpatient for simplicity and then drop the column \"encounter_id\" and \"patient_nmbr\"."
      ]
    },
    {
      "cell_type": "code",
      "execution_count": null,
      "metadata": {
        "colab": {
          "base_uri": "https://localhost:8080/"
        },
        "id": "ePaQqDYj8HcA",
        "outputId": "4fb71b4a-4066-4470-9b92-d5218168358f"
      },
      "outputs": [
        {
          "output_type": "stream",
          "name": "stdout",
          "text": [
            "Rows in the dataset are 101766\n",
            "Number of patients are 71518\n"
          ]
        }
      ],
      "source": [
        "print(\"Rows in the dataset are {}\".format(shape[0]))\n",
        "print(\"Number of patients are {}\".format(df.select(\"patient_nbr\").distinct().count()))"
      ]
    },
    {
      "cell_type": "code",
      "execution_count": null,
      "metadata": {
        "colab": {
          "base_uri": "https://localhost:8080/"
        },
        "id": "6GJCDnzj7P2v",
        "outputId": "a2f75c66-ee5d-4dd9-8369-f271cb7567cb"
      },
      "outputs": [
        {
          "output_type": "stream",
          "name": "stdout",
          "text": [
            "The dataset now has 71518 rows\n"
          ]
        }
      ],
      "source": [
        "# Define a window specification based on the \"ID\" column\n",
        "window_spec = Window.partitionBy(\"patient_nbr\").orderBy(\"patient_nbr\")\n",
        "\n",
        "# Assign row numbers to each partition based on the window specification\n",
        "df_with_row_number = df.withColumn(\"row_number\", row_number().over(window_spec))\n",
        "\n",
        "# Filter out rows where the row number is 1 (keeping only the first occurrence of each \"ID\")\n",
        "df = df_with_row_number.filter(col(\"row_number\") == 1).drop(\"row_number\")\n",
        "\n",
        "shape = (df.count(), len(df.columns))\n",
        "print(\"The dataset now has {} rows\".format(shape[0]))\n",
        "\n",
        "df = df.drop(col('encounter_id') , col('patient_nbr'))"
      ]
    },
    {
      "cell_type": "markdown",
      "metadata": {
        "id": "M3lCqGWub_HA"
      },
      "source": [
        "As said we're gonna drop the columns having a single value"
      ]
    },
    {
      "cell_type": "code",
      "execution_count": null,
      "metadata": {
        "colab": {
          "base_uri": "https://localhost:8080/"
        },
        "id": "l1PqZt58z7hL",
        "outputId": "a9f10967-3444-4d59-99b9-17eca8239fec"
      },
      "outputs": [
        {
          "output_type": "stream",
          "name": "stdout",
          "text": [
            "One distinct value columns:  ['examide', 'citoglipton', 'glimepiride-pioglitazone']\n"
          ]
        }
      ],
      "source": [
        "# Calculate the number of distinct values for each column\n",
        "distinct_counts = df.select([countDistinct(col_name).alias(col_name) for col_name in df.columns]).first().asDict().items()\n",
        "\n",
        "# Select columns where the number of distinct values is equal to 1\n",
        "single_value_columns = [col_name for col_name,value in distinct_counts if value == 1]\n",
        "\n",
        "print(\"One distinct value columns: \" , single_value_columns)\n",
        "\n",
        "df = df.drop(*single_value_columns)"
      ]
    },
    {
      "cell_type": "markdown",
      "metadata": {
        "id": "xq4GBVk1g9Ll"
      },
      "source": [
        "We drop all the rows where gender = 'NaN' and race = 'Unknown/Invalid'"
      ]
    },
    {
      "cell_type": "code",
      "execution_count": null,
      "metadata": {
        "colab": {
          "base_uri": "https://localhost:8080/"
        },
        "id": "fTQdk4cKg_tI",
        "outputId": "1712531d-c703-4881-c3b9-99b77f53d698"
      },
      "outputs": [
        {
          "output_type": "stream",
          "name": "stdout",
          "text": [
            "1949 columns have been eliminated\n",
            "The new shape is : (69569, 45)\n"
          ]
        }
      ],
      "source": [
        "df = df.filter((col(\"race\") != \"NaN\")  & (col(\"gender\")!= \"Unknown/Invalid\"))\n",
        "df_shape = (df.count(), len(df.columns))\n",
        "print(\"{} columns have been eliminated\".format(shape[0]-df_shape[0] , shape[1]-df_shape[1]))\n",
        "print(\"The new shape is :\" , df_shape)\n",
        "shape = df_shape"
      ]
    },
    {
      "cell_type": "markdown",
      "metadata": {
        "id": "Lb8H3u0LFuzI"
      },
      "source": [
        "Regarding the remaining attributes:\n",
        "Check wheter there are columns having null or NaN values and eventually let's count them"
      ]
    },
    {
      "cell_type": "code",
      "execution_count": null,
      "metadata": {
        "colab": {
          "base_uri": "https://localhost:8080/"
        },
        "id": "r39a_MH-FuzI",
        "outputId": "66f51346-6707-4c5e-d238-ada8afc1efce"
      },
      "outputs": [
        {
          "output_type": "stream",
          "name": "stdout",
          "text": [
            "+------+----------+-----------------+\n",
            "|weight|payer_code|medical_specialty|\n",
            "+------+----------+-----------------+\n",
            "| 66851|     30522|            33479|\n",
            "+------+----------+-----------------+\n",
            "\n"
          ]
        }
      ],
      "source": [
        "missing_values= df.select([(count(when(((col(c) == '' ) | isnan(c)) | (col(c) == 'NaN'), c ))).alias(c) for c in df.columns])\n",
        "mv = missing_values.first().asDict().items()\n",
        "\n",
        "\n",
        "# Gets all the columns that have a number of Nulls higher than 20% of the total values\n",
        "mv = missing_values.select([col_name for col_name,value in mv if value > shape[0] *1/5])\n",
        "\n",
        "\n",
        "mv.show()"
      ]
    },
    {
      "cell_type": "markdown",
      "metadata": {
        "id": "tLKaMs7XFuzI"
      },
      "source": [
        "The columns A1Cresult and max_glu_serum contemplate the presence of missing values. Their description is:\n",
        "- A1Cresult : was greater than 8%, “>7” if the result was greater than 7% but less than 8%, “normal”\n",
        "if the result was less than 7%, and “none” if not measured.\n",
        "- max_glu_serum: Indicates the range of the result or if the test was not taken. Values: “>200,” “>300,”\n",
        "“normal,” and “none” if not measured."
      ]
    },
    {
      "cell_type": "markdown",
      "metadata": {
        "id": "Ja9lRKKjFuzJ"
      },
      "source": [
        "- Weight attribute was considered to be too sparse and it was not included in further analysis.\n",
        "- payer_code and medical_specialty were removed since they had a high percentage of missing values so they were not considered relevant to the outcome."
      ]
    },
    {
      "cell_type": "code",
      "execution_count": null,
      "metadata": {
        "colab": {
          "base_uri": "https://localhost:8080/"
        },
        "id": "XcyXvPQlFuzJ",
        "outputId": "b2b639d4-c31d-4038-8e6e-36e2d8d17643"
      },
      "outputs": [
        {
          "output_type": "stream",
          "name": "stdout",
          "text": [
            "there are 42 columns\n"
          ]
        }
      ],
      "source": [
        "#eliminate weigth and payer_code\n",
        "df = df.drop(col('payer_code'),col('weight'),col('medical_specialty'))\n",
        "\n",
        "print(\"there are {} columns\".format(len(df.columns)))"
      ]
    },
    {
      "cell_type": "markdown",
      "metadata": {
        "id": "p6-esdCckSu8"
      },
      "source": [
        "### Data Preparation\n"
      ]
    },
    {
      "cell_type": "markdown",
      "metadata": {
        "id": "NRZSFYU7kaJL"
      },
      "source": [
        "It's noticeable that a lot of features are string, we need to convert them in a numeric format."
      ]
    },
    {
      "cell_type": "markdown",
      "metadata": {
        "id": "1pZ2ol0kFuzJ"
      },
      "source": [
        "The column diag_1,diag_2,diag_3 represent ICD-9 codes which can be classified in categories.\n",
        "reference to this page for more info: https://www2.gov.bc.ca/gov/content/health/practitioner-professional-resources/msp/physicians/diagnostic-code-descriptions-icd-9"
      ]
    },
    {
      "cell_type": "code",
      "execution_count": null,
      "metadata": {
        "id": "U-3MTDVkFuzJ"
      },
      "outputs": [],
      "source": [
        "# Mapping diag_1, diag_2,diag_3\n",
        "def diag_label(x):\n",
        "    try:\n",
        "        value = int(x)\n",
        "        if 1 <= value <= 139.9:\n",
        "            return 1  # Infection and Parasitic Diseases\n",
        "        elif 140 <= value <= 239.9:\n",
        "            return 2  # Neoplasms\n",
        "        elif 240 <= value <= 279.9:\n",
        "            return 3  # Endocrine, Nutritional and Metabolic Diseases and Immunity Disorders\n",
        "        elif 280 <= value <= 289.9:\n",
        "            return 4  # Diseases of Blood and Blood Forming Organs\n",
        "        elif 290 <= value <= 319:\n",
        "            return 5  # Mental Disorders\n",
        "        elif 320 <= value <= 389.9:\n",
        "            return 6  # Diseases of Nervous System and Sense Organs\n",
        "        elif 390 <= value <= 459.9:\n",
        "            return 7  # Diseases of the Circulatory System\n",
        "        elif 460 <= value <= 519.9:\n",
        "            return 8  # Diseases of the Respiratory System\n",
        "        elif 520 <= value <= 579.9:\n",
        "            return 9  # Diseases of the Digestive System\n",
        "        elif 580 <= value <= 629.9:\n",
        "            return 10  # Diseases of the Genitourinary System\n",
        "        elif 630 <= value <= 676.9:\n",
        "            return 11  # Complications of Pregnancy, Childbirth and the Puerperium\n",
        "        elif 680 <= value <= 709.9:\n",
        "            return 12  # Diseases of the Skin and Subcutaneous Tissue\n",
        "        elif 710 <= value <= 739.9:\n",
        "            return 13  # Diseases of the Musculoskeletal System and Connective Tissue\n",
        "        elif 740 <= value <= 759.9:\n",
        "            return 14  # Congenital Anomalies\n",
        "        elif 760 <= value <= 779.9:\n",
        "            return 15  # Certain Conditions Originating in the Perinatal Period\n",
        "        elif 780 <= value <= 799.9:\n",
        "            return 16  # Symptoms, Signs and Ill-defined Conditions\n",
        "        elif 800 <= value <= 999.9:\n",
        "            return 17  # Injury and Poisoning\n",
        "    except ValueError as e:\n",
        "        return 0 #For values starting with a letter"
      ]
    },
    {
      "cell_type": "code",
      "execution_count": null,
      "metadata": {
        "id": "Gf5YQbT0FuzK"
      },
      "outputs": [],
      "source": [
        "# Define the label_condition function as a UDF\n",
        "label_condition_udf = udf(diag_label, IntegerType())\n",
        "\n",
        "# Apply the UDF to multiple columns\n",
        "result = df.select(\n",
        "    \"*\",\n",
        "    label_condition_udf(df[\"diag_1\"]).alias(\"diag_1_label\"),\n",
        "    label_condition_udf(df[\"diag_2\"]).alias(\"diag_2_label\"),\n",
        "    label_condition_udf(df[\"diag_3\"]).alias(\"diag_3_label\")\n",
        ")\n",
        "df = result.drop(col(\"diag_1\") , col(\"diag_2\"), col(\"diag_3\"))\n"
      ]
    },
    {
      "cell_type": "markdown",
      "metadata": {
        "id": "lH3a0ky_FuzK"
      },
      "source": [
        "Regarding the feature that we are interestid to predict which is \"readmitted\", we can see that there are three distinct values: [<30 , >30, NO]. Since we are specifically interested whether a certain patient has been readmitted within 30 days, we will convert the label \"<30\" in the label \"NO\" in order to obtain a binary classification problem which is simpler to treat."
      ]
    },
    {
      "cell_type": "code",
      "execution_count": null,
      "metadata": {
        "colab": {
          "base_uri": "https://localhost:8080/"
        },
        "id": "RvfQHC5SFuzK",
        "outputId": "8010bac5-1b74-406d-ba8e-4c71503a6e45"
      },
      "outputs": [
        {
          "output_type": "stream",
          "name": "stdout",
          "text": [
            "+----------+\n",
            "|readmitted|\n",
            "+----------+\n",
            "|        NO|\n",
            "|       <30|\n",
            "+----------+\n",
            "\n"
          ]
        }
      ],
      "source": [
        "df = df.withColumn('readmitted', when(col('readmitted') == '>30' , 'NO').otherwise(col('readmitted')))\n",
        "df.select(\"readmitted\").distinct().show()"
      ]
    },
    {
      "cell_type": "markdown",
      "metadata": {
        "id": "B4bAf8T3FuzK"
      },
      "source": [
        "At this point let's encode every other categorical feature with a StringIndexer to turn all the nominal values into numeric values."
      ]
    },
    {
      "cell_type": "code",
      "execution_count": null,
      "metadata": {
        "colab": {
          "base_uri": "https://localhost:8080/"
        },
        "id": "oZrSAEoCFuzK",
        "outputId": "b96bfde5-aa1a-4b55-d42e-c7e267439002"
      },
      "outputs": [
        {
          "output_type": "stream",
          "name": "stdout",
          "text": [
            "+-----------------+------------------------+-------------------+----------------+------------------+--------------+---------------+-----------------+----------------+----------------+----------------+------------+------------+------------+------------+--------------+-----------+---------------------+-----------------+-----------------+-------------------+-------------------+----------------------+-------------------+---------------------+-----------------+-----------------+-------------------+--------------------+---------------------+----------------+----------------+--------------------+------------------+---------------+---------------------------+---------------------------+-------------------------------+------------------------------+--------------+-------------------+------------------+\n",
            "|admission_type_id|discharge_disposition_id|admission_source_id|time_in_hospital|num_lab_procedures|num_procedures|num_medications|number_outpatient|number_emergency|number_inpatient|number_diagnoses|diag_1_label|diag_2_label|diag_3_label|race_encoded|gender_encoded|age_encoded|max_glu_serum_encoded|A1Cresult_encoded|metformin_encoded|repaglinide_encoded|nateglinide_encoded|chlorpropamide_encoded|glimepiride_encoded|acetohexamide_encoded|glipizide_encoded|glyburide_encoded|tolbutamide_encoded|pioglitazone_encoded|rosiglitazone_encoded|acarbose_encoded|miglitol_encoded|troglitazone_encoded|tolazamide_encoded|insulin_encoded|glyburide-metformin_encoded|glipizide-metformin_encoded|metformin-rosiglitazone_encoded|metformin-pioglitazone_encoded|change_encoded|diabetesMed_encoded|readmitted_encoded|\n",
            "+-----------------+------------------------+-------------------+----------------+------------------+--------------+---------------+-----------------+----------------+----------------+----------------+------------+------------+------------+------------+--------------+-----------+---------------------+-----------------+-----------------+-------------------+-------------------+----------------------+-------------------+---------------------+-----------------+-----------------+-------------------+--------------------+---------------------+----------------+----------------+--------------------+------------------+---------------+---------------------------+---------------------------+-------------------------------+------------------------------+--------------+-------------------+------------------+\n",
            "|                3|                       1|                  1|               2|                49|             1|             11|                0|               0|               0|               3|          13|           5|           3|         0.0|           0.0|        2.0|                  0.0|              0.0|              0.0|                0.0|                0.0|                   0.0|                0.0|                  0.0|              0.0|              0.0|                0.0|                 0.0|                  0.0|             0.0|             0.0|                 0.0|               0.0|            0.0|                        0.0|                        0.0|                            0.0|                           0.0|           0.0|                1.0|               0.0|\n",
            "|                1|                       1|                  7|               5|                49|             0|              5|                0|               0|               0|               3|          10|           2|           3|         1.0|           0.0|        5.0|                  0.0|              0.0|              0.0|                0.0|                0.0|                   0.0|                1.0|                  0.0|              0.0|              0.0|                0.0|                 0.0|                  0.0|             0.0|             0.0|                 0.0|               0.0|            0.0|                        0.0|                        0.0|                            0.0|                           0.0|           0.0|                0.0|               0.0|\n",
            "|                1|                       1|                  7|               6|                43|             2|             13|                0|               0|               1|               2|           4|           0|           0|         1.0|           0.0|        2.0|                  0.0|              0.0|              0.0|                0.0|                0.0|                   0.0|                0.0|                  0.0|              0.0|              0.0|                0.0|                 0.0|                  0.0|             0.0|             0.0|                 0.0|               0.0|            1.0|                        0.0|                        0.0|                            0.0|                           0.0|           0.0|                0.0|               0.0|\n",
            "|                2|                       1|                  1|               2|                50|             5|             13|                0|               0|               0|               9|          17|           7|           7|         0.0|           0.0|        4.0|                  0.0|              0.0|              0.0|                0.0|                0.0|                   0.0|                0.0|                  0.0|              0.0|              0.0|                0.0|                 0.0|                  0.0|             0.0|             0.0|                 0.0|               0.0|            1.0|                        0.0|                        0.0|                            0.0|                           0.0|           0.0|                0.0|               0.0|\n",
            "|                3|                       6|                  4|              14|                21|             0|             15|                3|               1|               2|               7|           0|          13|           7|         0.0|           1.0|        0.0|                  0.0|              0.0|              0.0|                0.0|                0.0|                   0.0|                0.0|                  0.0|              0.0|              0.0|                0.0|                 0.0|                  0.0|             0.0|             0.0|                 0.0|               0.0|            1.0|                        0.0|                        0.0|                            0.0|                           0.0|           0.0|                0.0|               0.0|\n",
            "|                2|                       1|                  1|               8|                57|             6|             31|                0|               0|               0|               9|           7|          10|           4|         0.0|           1.0|        1.0|                  0.0|              1.0|              0.0|                0.0|                0.0|                   0.0|                0.0|                  0.0|              0.0|              0.0|                0.0|                 0.0|                  0.0|             0.0|             0.0|                 0.0|               0.0|            1.0|                        0.0|                        0.0|                            0.0|                           0.0|           0.0|                0.0|               0.0|\n",
            "|                3|                       1|                  1|               1|                31|             1|              9|                0|               0|               0|               7|          13|           0|           7|         0.0|           0.0|        0.0|                  0.0|              0.0|              0.0|                0.0|                0.0|                   0.0|                0.0|                  0.0|              0.0|              0.0|                0.0|                 0.0|                  0.0|             0.0|             0.0|                 0.0|               0.0|            0.0|                        0.0|                        0.0|                            0.0|                           0.0|           0.0|                1.0|               0.0|\n",
            "|                1|                       1|                  7|               2|                15|             0|             14|                0|               0|               0|               9|           3|           7|           9|         0.0|           1.0|        1.0|                  0.0|              0.0|              0.0|                0.0|                0.0|                   0.0|                0.0|                  0.0|              0.0|              0.0|                0.0|                 0.0|                  0.0|             0.0|             0.0|                 0.0|               0.0|            1.0|                        0.0|                        0.0|                            0.0|                           0.0|           0.0|                0.0|               0.0|\n",
            "|                1|                       3|                  7|               7|                77|             0|             12|                0|               0|               0|               9|           1|          10|          10|         0.0|           0.0|        3.0|                  0.0|              0.0|              0.0|                0.0|                0.0|                   0.0|                0.0|                  0.0|              0.0|              0.0|                0.0|                 0.0|                  0.0|             0.0|             0.0|                 0.0|               0.0|            1.0|                        0.0|                        0.0|                            0.0|                           0.0|           0.0|                0.0|               0.0|\n",
            "|                1|                       1|                  7|               4|                47|             4|             16|                0|               0|               0|               7|           9|           3|           9|         0.0|           0.0|        1.0|                  0.0|              0.0|              0.0|                0.0|                0.0|                   0.0|                0.0|                  0.0|              0.0|              0.0|                0.0|                 0.0|                  0.0|             0.0|             0.0|                 0.0|               0.0|            0.0|                        0.0|                        0.0|                            0.0|                           0.0|           0.0|                1.0|               0.0|\n",
            "|                3|                       1|                  1|               6|                65|             2|             19|                0|               0|               0|               7|           7|          17|          16|         0.0|           1.0|        0.0|                  0.0|              0.0|              1.0|                0.0|                0.0|                   0.0|                0.0|                  0.0|              0.0|              0.0|                0.0|                 0.0|                  0.0|             0.0|             0.0|                 0.0|               0.0|            0.0|                        0.0|                        0.0|                            0.0|                           0.0|           0.0|                0.0|               0.0|\n",
            "|                1|                       1|                  7|               1|                59|             0|             12|                0|               0|               0|               6|           8|          16|           4|         0.0|           1.0|        1.0|                  0.0|              0.0|              1.0|                0.0|                0.0|                   0.0|                0.0|                  0.0|              0.0|              1.0|                0.0|                 1.0|                  0.0|             0.0|             0.0|                 0.0|               0.0|            1.0|                        0.0|                        0.0|                            0.0|                           0.0|           1.0|                0.0|               0.0|\n",
            "|                2|                       1|                  1|               1|                33|             2|             12|                0|               0|               0|               5|          10|          10|           8|         0.0|           1.0|        0.0|                  0.0|              0.0|              0.0|                0.0|                0.0|                   0.0|                0.0|                  0.0|              0.0|              0.0|                0.0|                 0.0|                  0.0|             0.0|             0.0|                 0.0|               0.0|            1.0|                        0.0|                        0.0|                            0.0|                           0.0|           0.0|                0.0|               0.0|\n",
            "|                3|                       1|                  1|               4|                54|             2|              3|                0|               0|               0|               8|          10|           3|           7|         1.0|           0.0|        0.0|                  0.0|              0.0|              0.0|                0.0|                0.0|                   0.0|                0.0|                  0.0|              0.0|              0.0|                0.0|                 0.0|                  0.0|             0.0|             0.0|                 0.0|               0.0|            0.0|                        0.0|                        0.0|                            0.0|                           0.0|           0.0|                1.0|               0.0|\n",
            "|                1|                       1|                  7|              13|                88|             6|             45|                0|               0|               0|               9|           7|           8|           3|         0.0|           1.0|        2.0|                  0.0|              2.0|              0.0|                0.0|                0.0|                   0.0|                0.0|                  0.0|              0.0|              0.0|                0.0|                 0.0|                  0.0|             0.0|             0.0|                 0.0|               0.0|            1.0|                        0.0|                        0.0|                            0.0|                           0.0|           0.0|                0.0|               0.0|\n",
            "|                6|                      25|                  7|               7|                70|             2|             20|                0|               0|               0|               9|           8|           7|           7|         0.0|           0.0|        0.0|                  0.0|              0.0|              0.0|                0.0|                0.0|                   0.0|                0.0|                  0.0|              0.0|              0.0|                0.0|                 0.0|                  1.0|             0.0|             0.0|                 0.0|               0.0|            1.0|                        0.0|                        0.0|                            0.0|                           0.0|           1.0|                0.0|               0.0|\n",
            "|                1|                       1|                  7|               3|                35|             0|             10|                0|               0|               0|               8|           7|           9|           7|         0.0|           1.0|        3.0|                  0.0|              0.0|              0.0|                0.0|                0.0|                   0.0|                0.0|                  0.0|              0.0|              0.0|                0.0|                 0.0|                  0.0|             0.0|             0.0|                 0.0|               0.0|            0.0|                        0.0|                        0.0|                            0.0|                           0.0|           0.0|                1.0|               0.0|\n",
            "|                1|                       1|                  6|               7|                78|             0|             16|                0|               0|               0|               5|           0|          10|           7|         0.0|           1.0|        3.0|                  0.0|              3.0|              0.0|                0.0|                0.0|                   0.0|                0.0|                  0.0|              0.0|              0.0|                0.0|                 0.0|                  0.0|             0.0|             0.0|                 0.0|               0.0|            1.0|                        0.0|                        0.0|                            0.0|                           0.0|           0.0|                0.0|               0.0|\n",
            "|                2|                       1|                  1|               5|                45|             0|             22|                0|               0|               0|               5|           7|           8|           7|         0.0|           1.0|        2.0|                  0.0|              3.0|              0.0|                0.0|                0.0|                   0.0|                0.0|                  0.0|              1.0|              0.0|                0.0|                 0.0|                  0.0|             0.0|             0.0|                 0.0|               0.0|            0.0|                        0.0|                        0.0|                            0.0|                           0.0|           0.0|                0.0|               0.0|\n",
            "|                1|                       3|                  6|               3|                38|             0|              8|                0|               0|               0|               5|           8|           7|           3|         0.0|           1.0|        3.0|                  0.0|              0.0|              1.0|                0.0|                0.0|                   0.0|                0.0|                  0.0|              0.0|              1.0|                0.0|                 0.0|                  0.0|             0.0|             0.0|                 0.0|               0.0|            1.0|                        0.0|                        0.0|                            0.0|                           0.0|           1.0|                0.0|               0.0|\n",
            "+-----------------+------------------------+-------------------+----------------+------------------+--------------+---------------+-----------------+----------------+----------------+----------------+------------+------------+------------+------------+--------------+-----------+---------------------+-----------------+-----------------+-------------------+-------------------+----------------------+-------------------+---------------------+-----------------+-----------------+-------------------+--------------------+---------------------+----------------+----------------+--------------------+------------------+---------------+---------------------------+---------------------------+-------------------------------+------------------------------+--------------+-------------------+------------------+\n",
            "only showing top 20 rows\n",
            "\n"
          ]
        }
      ],
      "source": [
        "# Get the columns that are of StringType\n",
        "categorical_columns = [col_name for col_name, col_type in df.dtypes if col_type == 'string']\n",
        "\n",
        "# Create a pipeline to apply StringIndexer to each categorical column\n",
        "indexers = [StringIndexer(inputCol=col_name, outputCol=col_name + \"_encoded\") for col_name in categorical_columns]\n",
        "pipeline = Pipeline(stages=indexers)\n",
        "\n",
        "# Fit and transform the DataFrame using the pipeline\n",
        "df_encoded = pipeline.fit(df).transform(df)\n",
        "\n",
        "# Drop the original categorical columns\n",
        "df_encoded = df_encoded.drop(*categorical_columns)\n",
        "\n",
        "df_encoded[df_encoded.columns].show()\n"
      ]
    },
    {
      "cell_type": "code",
      "execution_count": null,
      "metadata": {
        "colab": {
          "base_uri": "https://localhost:8080/"
        },
        "id": "IaECzP7oFuzK",
        "outputId": "8af5de51-8daf-49fb-c8ab-9fff1c964f5d"
      },
      "outputs": [
        {
          "output_type": "stream",
          "name": "stdout",
          "text": [
            "+-------+------------------+------------------------+-------------------+------------------+------------------+------------------+------------------+------------------+-------------------+------------------+-----------------+-----------------+-----------------+-----------------+------------------+------------------+------------------+---------------------+------------------+-------------------+-------------------+--------------------+----------------------+--------------------+---------------------+------------------+-------------------+--------------------+--------------------+---------------------+--------------------+--------------------+--------------------+--------------------+------------------+---------------------------+---------------------------+-------------------------------+------------------------------+-------------------+-------------------+------------------+\n",
            "|summary| admission_type_id|discharge_disposition_id|admission_source_id|  time_in_hospital|num_lab_procedures|    num_procedures|   num_medications| number_outpatient|   number_emergency|  number_inpatient| number_diagnoses|     diag_1_label|     diag_2_label|     diag_3_label|      race_encoded|    gender_encoded|       age_encoded|max_glu_serum_encoded| A1Cresult_encoded|  metformin_encoded|repaglinide_encoded| nateglinide_encoded|chlorpropamide_encoded| glimepiride_encoded|acetohexamide_encoded| glipizide_encoded|  glyburide_encoded| tolbutamide_encoded|pioglitazone_encoded|rosiglitazone_encoded|    acarbose_encoded|    miglitol_encoded|troglitazone_encoded|  tolazamide_encoded|   insulin_encoded|glyburide-metformin_encoded|glipizide-metformin_encoded|metformin-rosiglitazone_encoded|metformin-pioglitazone_encoded|     change_encoded|diabetesMed_encoded|readmitted_encoded|\n",
            "+-------+------------------+------------------------+-------------------+------------------+------------------+------------------+------------------+------------------+-------------------+------------------+-----------------+-----------------+-----------------+-----------------+------------------+------------------+------------------+---------------------+------------------+-------------------+-------------------+--------------------+----------------------+--------------------+---------------------+------------------+-------------------+--------------------+--------------------+---------------------+--------------------+--------------------+--------------------+--------------------+------------------+---------------------------+---------------------------+-------------------------------+------------------------------+-------------------+-------------------+------------------+\n",
            "|  count|             69569|                   69569|              69569|             69569|             69569|             69569|             69569|             69569|              69569|             69569|            69569|            69569|            69569|            69569|             69569|             69569|             69569|                69569|             69569|              69569|              69569|               69569|                 69569|               69569|                69569|             69569|              69569|               69569|               69569|                69569|               69569|               69569|               69569|               69569|             69569|                      69569|                      69569|                          69569|                         69569|              69569|              69569|             69569|\n",
            "|   mean|2.1050036654256923|      3.6214980810418433| 5.6771838031307045|  4.29071856717791| 43.04644309965646|1.4313127973666433|15.701318115827451|0.2834164642297575|0.10546364041455246|0.1796633558050281|7.261869510845348|8.108065373945292|6.690048728600383|6.097687188259139|0.3081832425361871|0.4675214535209648|1.9797036036165534|  0.08411792608776898| 0.315629087668358|0.23325044200721587|0.01503543244836062|0.007532090442582184|  0.001106814816944...|0.059034914976498154| 1.437421840187439...|0.1460420589630439|0.12991418591614082|2.587359312337391...| 0.07911569808391669|  0.06982995299630583|0.002975463209188...|3.306070232431111...|4.312265520562319...|4.312265520562319...|0.8094409866463511|       0.007100863890525952|       1.006195288131207...|                            0.0|          1.437421840187439...|0.44698069542468627|0.24188934726674238|0.0884301916083313|\n",
            "| stddev|1.5155394687455974|       5.305432602792832|   4.17389203042158|2.9501405662944666| 19.98265294672999|1.7574916370591043| 8.299938665252428| 1.078273438508602| 0.5147213743730908|0.6071790936424392| 1.98847176738579|4.738992421178693|4.167707951498055|4.177719750135059|0.6663802684232644|0.4989476149476177|1.8227476203629762|  0.41089936265615035|0.7523290318256236| 0.4885717448806961|0.13921439671570662| 0.09287313665404438|   0.03615034744569783| 0.27119618805461937| 0.003791334646516242| 0.415361175716021|0.40671675627179316|0.016083305169323405|  0.2912335373693583|   0.2738393927093476| 0.05704507841741731| 0.02110682053597872|0.006566689841836229| 0.02076166639934661| 0.973684620631831|        0.08649725844943656|       0.010030496035883955|                            0.0|          0.003791334646516...| 0.4971845799513748|0.42823069356566473|0.2839215587923108|\n",
            "|    min|                 1|                       1|                  1|                 1|                 1|                 0|                 1|                 0|                  0|                 0|                1|                0|                0|                0|               0.0|               0.0|               0.0|                  0.0|               0.0|                0.0|                0.0|                 0.0|                   0.0|                 0.0|                  0.0|               0.0|                0.0|                 0.0|                 0.0|                  0.0|                 0.0|                 0.0|                 0.0|                 0.0|               0.0|                        0.0|                        0.0|                            0.0|                           0.0|                0.0|                0.0|               0.0|\n",
            "|    max|                 8|                      28|                 25|                14|               132|                 6|                81|                42|                 42|                12|               16|               17|               17|               17|               4.0|               1.0|               9.0|                  3.0|               3.0|                3.0|                3.0|                 3.0|                   3.0|                 3.0|                  1.0|               3.0|                3.0|                 1.0|                 3.0|                  3.0|                 2.0|                 3.0|                 1.0|                 1.0|               3.0|                        3.0|                        1.0|                            0.0|                           1.0|                1.0|                1.0|               1.0|\n",
            "+-------+------------------+------------------------+-------------------+------------------+------------------+------------------+------------------+------------------+-------------------+------------------+-----------------+-----------------+-----------------+-----------------+------------------+------------------+------------------+---------------------+------------------+-------------------+-------------------+--------------------+----------------------+--------------------+---------------------+------------------+-------------------+--------------------+--------------------+---------------------+--------------------+--------------------+--------------------+--------------------+------------------+---------------------------+---------------------------+-------------------------------+------------------------------+-------------------+-------------------+------------------+\n",
            "\n"
          ]
        }
      ],
      "source": [
        "stats = df_encoded.describe(df_encoded.columns)\n",
        "stats.show()"
      ]
    },
    {
      "cell_type": "code",
      "execution_count": null,
      "metadata": {
        "id": "KYoLmAiqSwz0"
      },
      "outputs": [],
      "source": [
        "cols = df_encoded.columns[:-1]\n",
        "labelCol = 'readmitted_encoded'\n",
        "featuresCol = 'features'\n",
        "assembler = VectorAssembler(inputCols=cols, outputCol=featuresCol)\n",
        "df_encoded = assembler.transform(df_encoded)"
      ]
    },
    {
      "cell_type": "markdown",
      "metadata": {
        "id": "IsyiVk-QvJuf"
      },
      "source": [
        "Standard Scaler"
      ]
    },
    {
      "cell_type": "code",
      "execution_count": null,
      "metadata": {
        "id": "VSIHSjAaqnL0"
      },
      "outputs": [],
      "source": [
        "# Standard Scaler (if applied)\n",
        "def extract(row):\n",
        "  return (row.readmitted_encoded,row.scaled_features,) + tuple(row.scaled_features.toArray().tolist())\n",
        "\n",
        "\n",
        "scale_dataset = False\n",
        "if scale_dataset:\n",
        "  scaler = StandardScaler(inputCol = 'features', outputCol = \"scaled_features\")\n",
        "  scaler_model = scaler.fit(df_encoded.select(\"features\"))\n",
        "  df_scaled = scaler_model.transform(df_encoded)\n",
        "  # to standardize the dataset and replace the default values with the standardised ones\n",
        "  cols_to_keep_unscaled = ['readmitted_encoded', \"scaled_features\"]\n",
        "  df_scaled = df_scaled.select(*cols_to_keep_unscaled, \"scaled_features\").rdd.map(extract).toDF(cols_to_keep_unscaled + cols)\n",
        "  df_encoded = df_scaled(*df_scaled.columns)\n",
        "  featuresCol = 'scaled_features'"
      ]
    },
    {
      "cell_type": "markdown",
      "metadata": {
        "id": "E7rmMJn4q83B"
      },
      "source": [
        "Train and Test split"
      ]
    },
    {
      "cell_type": "code",
      "execution_count": null,
      "metadata": {
        "id": "Mr22KmXuqyLk"
      },
      "outputs": [],
      "source": [
        "train_data, test_data = df_encoded.randomSplit([0.7, 0.3], seed=random_state)"
      ]
    },
    {
      "cell_type": "markdown",
      "metadata": {
        "id": "XNXBVQZYFuzN"
      },
      "source": [
        "### Decision Tree"
      ]
    },
    {
      "cell_type": "code",
      "execution_count": null,
      "metadata": {
        "id": "UFXBWkvDFuzN"
      },
      "outputs": [],
      "source": [
        "# Logistic regression\n",
        "dt = DecisionTreeClassifier(featuresCol=featuresCol, labelCol=labelCol)\n",
        "dt_preds = dt.fit(train_data).transform(test_data)"
      ]
    },
    {
      "cell_type": "code",
      "execution_count": null,
      "metadata": {
        "colab": {
          "base_uri": "https://localhost:8080/"
        },
        "id": "cUumkvMQFuzN",
        "outputId": "20494ae2-05d8-4388-817d-1cbb4ae68d27"
      },
      "outputs": [
        {
          "output_type": "stream",
          "name": "stdout",
          "text": [
            "Accuracy 0.47598799295381433\n",
            "Recall: 0.005324813631522897\n",
            "Precision: 0.3333333333333333\n",
            "F1_score:  0.010482180293501049\n"
          ]
        }
      ],
      "source": [
        "# Calculate True Positive, False Positive, and False Negative\n",
        "true_positive = dt_preds.filter((dt_preds[labelCol] == 1) & (dt_preds['prediction'] == 1)).count()\n",
        "false_positive = dt_preds.filter((dt_preds[labelCol] == 0) & (dt_preds['prediction'] == 1)).count()\n",
        "false_negative = dt_preds.filter((dt_preds[labelCol] == 1) & (dt_preds['prediction'] == 0)).count()\n",
        "\n",
        "# Calculate Sensitivity, Precision, and Recall\n",
        "recall = true_positive / (true_positive + false_negative)\n",
        "precision = true_positive / (true_positive + false_positive)\n",
        "\n",
        "# EValuator\n",
        "evaluator = BinaryClassificationEvaluator(labelCol=labelCol)\n",
        "\n",
        "# Accuracy\n",
        "accuracy = evaluator.evaluate(dt_preds)\n",
        "print(\"Accuracy\", accuracy)\n",
        "print(\"Recall:\", recall)\n",
        "print(\"Precision:\", precision)\n",
        "print(\"F1_score: \" , 2*precision*recall/(precision + recall))\n"
      ]
    },
    {
      "cell_type": "code",
      "execution_count": null,
      "metadata": {
        "id": "EETSu_bAtCH8"
      },
      "outputs": [],
      "source": [
        "def plot_frequencies(dataset, title='',xlabel = '', ylabel=''):\n",
        "  # Extract data from the \"\" column\n",
        "  data = dataset.rdd.flatMap(lambda x: x).collect()\n",
        "  # Specify the colors for each bar\n",
        "  possible_colors = ['skyblue', 'salmon', 'lightgreen', 'orchid', 'cornflowerblue', 'lightcoral', 'palegreen', 'mediumorchid', 'deepskyblue', 'lightpink']\n",
        "  bins = [*range(dataset.distinct().count() +1)]\n",
        "  # Plot histogram with individually colored bars\n",
        "  n, bins, patches = plt.hist(data, bins=bins, edgecolor='black')\n",
        "  # Set colors for each bar individually\n",
        "  for i in range(len(patches)):\n",
        "      patches[i].set_facecolor(possible_colors[i])\n",
        "  plt.xlabel(xlabel)\n",
        "  plt.ylabel(ylabel)\n",
        "  plt.title(title)\n",
        "  plt.xticks(bins[:-1])  # Set x-axis ticks to match specified bins\n",
        "  plt.show()"
      ]
    },
    {
      "cell_type": "code",
      "execution_count": null,
      "metadata": {
        "colab": {
          "base_uri": "https://localhost:8080/",
          "height": 472
        },
        "id": "9NSuiIlxFuzN",
        "outputId": "3ec27ed0-d1ae-4f31-ee0c-f21ac41d4a69"
      },
      "outputs": [
        {
          "output_type": "display_data",
          "data": {
            "text/plain": [
              "<Figure size 640x480 with 1 Axes>"
            ],
            "image/png": "[encoded data removed]"
          },
          "metadata": {}
        }
      ],
      "source": [
        "plot_frequencies(test_data.select(labelCol), title=\"Readmitted Test set True labels\", xlabel=\"Readmission: <30 , NO\",ylabel=\"Frequency\")"
      ]
    },
    {
      "cell_type": "code",
      "execution_count": null,
      "metadata": {
        "colab": {
          "base_uri": "https://localhost:8080/"
        },
        "id": "hly36J1jvDMo",
        "outputId": "b937ff21-a6f3-4ab7-bdf2-153deee55e6d"
      },
      "outputs": [
        {
          "output_type": "display_data",
          "data": {
            "text/plain": [
              "<Figure size 640x480 with 1 Axes>"
            ],
            "image/png": "[encoded data removed]"
          },
          "metadata": {}
        }
      ],
      "source": [
        "plot_frequencies(dt_preds.select('prediction'), title=\"Readmitted Test set Prediction labels\", xlabel=\"Readmission: <30 , NO\",ylabel=\"Frequency\")"
      ]
    },
    {
      "cell_type": "markdown",
      "metadata": {
        "id": "iJhpjADCaygE"
      },
      "source": [
        "The model is performing poorly in term of F1_score, indeed it is overfitting on the majority class label which is 0. This happens obviously because the label column (readmitted_encoded) is definitely unbalanced as we can see from the label distribution."
      ]
    },
    {
      "cell_type": "markdown",
      "metadata": {
        "id": "25yIqD9FFuzN"
      },
      "source": [
        "To rebalance the class we can use resampling techniques. However, dealing with health-related datasets is a delicate situation because of a rare occurrence of certain patologies or clinical conditions. Among the most common solutions, one can proceed by undersampling the most frequent class labels (with the risk of losing some valuable piece of information), or oversampling the minority class (with the risk of overfitting, introduction of noise or loss of diversity of minorities).\n",
        "\n",
        "We decided to apply both oversampling and undersampling keeping a low ratio to avoid side effects of both the methods"
      ]
    },
    {
      "cell_type": "code",
      "execution_count": null,
      "metadata": {
        "id": "eV65xqcqFuzO"
      },
      "outputs": [],
      "source": [
        "# Separate the label column from the dataset and the scaled_features before sampling\n",
        "X = df_encoded.drop(col(labelCol), col(featuresCol)).toPandas()\n",
        "y = df_encoded.select(labelCol).toPandas()"
      ]
    },
    {
      "cell_type": "code",
      "execution_count": null,
      "metadata": {
        "id": "pdGZTdeCFuzO"
      },
      "outputs": [],
      "source": [
        "# use SMOTE oversampling\n",
        "smote = SMOTE(sampling_strategy=0.5,k_neighbors=5, random_state=random_state)\n",
        "\n",
        "# Apply SMOTE\n",
        "X_resampled, y_resampled = smote.fit_resample(X,y)\n",
        "\n",
        "# Recreate the new dataset\n",
        "df_resampled = X_resampled.join(y_resampled)\n",
        "df_resampled = spark.createDataFrame(df_resampled)\n",
        "\n"
      ]
    },
    {
      "cell_type": "code",
      "execution_count": null,
      "metadata": {
        "colab": {
          "base_uri": "https://localhost:8080/",
          "height": 472
        },
        "id": "tsCE1NfcpJ7F",
        "outputId": "82dfae4f-cec7-4a7a-a92e-c3cc76981a10"
      },
      "outputs": [
        {
          "output_type": "display_data",
          "data": {
            "text/plain": [
              "<Figure size 640x480 with 1 Axes>"
            ],
            "image/png": "[encoded data removed]"
          },
          "metadata": {}
        }
      ],
      "source": [
        "plot_frequencies(df_resampled.select(labelCol), title=\"Readmitted True labels AFTER Sampling\", xlabel=\"Readmission: <30 , NO\",ylabel=\"Frequency\")"
      ]
    },
    {
      "cell_type": "code",
      "execution_count": null,
      "metadata": {
        "id": "Z-3O1mzMJQn8"
      },
      "outputs": [],
      "source": [
        "# Random Undersampling\n",
        "# The \"ratio\" parameter expresses how frequent the class \"base_class\" should be w.r.t to the total\n",
        "def resample(base_features,ratio,class_field,base_class):\n",
        "    pos = base_features.filter(col(class_field)==base_class)\n",
        "    neg = base_features.filter(col(class_field)!=base_class)\n",
        "    total_pos = pos.count()\n",
        "    total_neg = neg.count()\n",
        "    fraction=float(total_pos*ratio)/float(total_neg)\n",
        "    sampled = neg.sample(False,fraction)\n",
        "    return sampled.union(pos)"
      ]
    },
    {
      "cell_type": "code",
      "execution_count": null,
      "metadata": {
        "id": "ngokCHe0JQn9"
      },
      "outputs": [],
      "source": [
        "df_resampled = resample(df_resampled,ratio = 2,class_field = labelCol,base_class = 1)"
      ]
    },
    {
      "cell_type": "code",
      "execution_count": null,
      "metadata": {
        "colab": {
          "base_uri": "https://localhost:8080/"
        },
        "id": "h3a3E5OLHmh7",
        "outputId": "c0adbae8-41b0-467c-d815-b4f4890da4bc"
      },
      "outputs": [
        {
          "output_type": "display_data",
          "data": {
            "text/plain": [
              "<Figure size 640x480 with 1 Axes>"
            ],
            "image/png": "[encoded data removed]"
          },
          "metadata": {}
        }
      ],
      "source": [
        "plot_frequencies(df_encoded.select(labelCol), title=\"Readmitted True labels BEFORE Sampling\", xlabel=\"Readmission: <30 , NO\",ylabel=\"Frequency\")"
      ]
    },
    {
      "cell_type": "code",
      "execution_count": null,
      "metadata": {
        "colab": {
          "base_uri": "https://localhost:8080/",
          "height": 472
        },
        "id": "PHJH4jjDHnF_",
        "outputId": "a979c65c-768c-4b05-e3e2-08c806fd0edd"
      },
      "outputs": [
        {
          "output_type": "display_data",
          "data": {
            "text/plain": [
              "<Figure size 640x480 with 1 Axes>"
            ],
            "image/png": "[encoded data removed]"
          },
          "metadata": {}
        }
      ],
      "source": [
        "plot_frequencies(df_resampled.select(labelCol), title=\"Readmitted True labels AFTER Sampling\", xlabel=\"Readmission: <30 , NO\",ylabel=\"Frequency\")"
      ]
    },
    {
      "cell_type": "code",
      "source": [
        "df_resampled.groupby('readmitted_encoded').count().show()"
      ],
      "metadata": {
        "colab": {
          "base_uri": "https://localhost:8080/"
        },
        "id": "n1cV1H5WEd0Z",
        "outputId": "2166005f-29bb-4d29-9352-f0572d7c5d0d"
      },
      "execution_count": null,
      "outputs": [
        {
          "output_type": "stream",
          "name": "stdout",
          "text": [
            "+------------------+-----+\n",
            "|readmitted_encoded|count|\n",
            "+------------------+-----+\n",
            "|               0.0|63415|\n",
            "|               1.0|31708|\n",
            "+------------------+-----+\n",
            "\n"
          ]
        }
      ]
    },
    {
      "cell_type": "markdown",
      "metadata": {
        "id": "Ukksh1T_bcfK"
      },
      "source": [
        "In this way we rebalanced the class labels to be respectively:\n",
        "*   0 : 66% of the total\n",
        "*   1 : 33% of the total\n",
        "\n",
        "\n",
        "We chose to apply this ratio as we aim to keep the occurrence of the readmission within 30 days as a rarer event compared to the others. Also it led to better results experimentally speaking.\n",
        "\n"
      ]
    },
    {
      "cell_type": "code",
      "source": [
        "# statistics\n",
        "stats = df_resampled.describe(df_resampled.columns)\n",
        "stats.show()"
      ],
      "metadata": {
        "colab": {
          "base_uri": "https://localhost:8080/"
        },
        "id": "cU6r6UnzaLnN",
        "outputId": "8e51d5e6-2826-43a9-9c8b-f7341a1dedda"
      },
      "execution_count": null,
      "outputs": [
        {
          "output_type": "stream",
          "name": "stdout",
          "text": [
            "+-------+------------------+------------------------+-------------------+-----------------+------------------+------------------+-----------------+------------------+-------------------+-------------------+------------------+-----------------+-----------------+-----------------+------------------+------------------+------------------+---------------------+------------------+------------------+--------------------+--------------------+----------------------+-------------------+---------------------+------------------+-------------------+--------------------+--------------------+---------------------+--------------------+--------------------+--------------------+--------------------+------------------+---------------------------+---------------------------+-------------------------------+------------------------------+-------------------+-------------------+-------------------+\n",
            "|summary| admission_type_id|discharge_disposition_id|admission_source_id| time_in_hospital|num_lab_procedures|    num_procedures|  num_medications| number_outpatient|   number_emergency|   number_inpatient|  number_diagnoses|     diag_1_label|     diag_2_label|     diag_3_label|      race_encoded|    gender_encoded|       age_encoded|max_glu_serum_encoded| A1Cresult_encoded| metformin_encoded| repaglinide_encoded| nateglinide_encoded|chlorpropamide_encoded|glimepiride_encoded|acetohexamide_encoded| glipizide_encoded|  glyburide_encoded| tolbutamide_encoded|pioglitazone_encoded|rosiglitazone_encoded|    acarbose_encoded|    miglitol_encoded|troglitazone_encoded|  tolazamide_encoded|   insulin_encoded|glyburide-metformin_encoded|glipizide-metformin_encoded|metformin-rosiglitazone_encoded|metformin-pioglitazone_encoded|     change_encoded|diabetesMed_encoded| readmitted_encoded|\n",
            "+-------+------------------+------------------------+-------------------+-----------------+------------------+------------------+-----------------+------------------+-------------------+-------------------+------------------+-----------------+-----------------+-----------------+------------------+------------------+------------------+---------------------+------------------+------------------+--------------------+--------------------+----------------------+-------------------+---------------------+------------------+-------------------+--------------------+--------------------+---------------------+--------------------+--------------------+--------------------+--------------------+------------------+---------------------------+---------------------------+-------------------------------+------------------------------+-------------------+-------------------+-------------------+\n",
            "|  count|             95123|                   95123|              95123|            95123|             95123|             95123|            95123|             95123|              95123|              95123|             95123|            95123|            95123|            95123|             95123|             95123|             95123|                95123|             95123|             95123|               95123|               95123|                 95123|              95123|                95123|             95123|              95123|               95123|               95123|                95123|               95123|               95123|               95123|               95123|             95123|                      95123|                      95123|                          95123|                         95123|              95123|              95123|              95123|\n",
            "|   mean| 2.049273046476667|      3.5112433375734575|  5.655961229145422|4.136822850414727| 42.83117647677218|1.3461202863660735|15.56693964656287|0.2397212030739148|0.08489008967337026|0.14740914395046414|  7.16349358199384|8.042933885600748|6.580953081799355| 5.99554261324811|0.3014332195516536|0.4671386657338636|1.9637895332334754|  0.08120020327046985|0.3104562749725539|0.2318568435407607|0.015150572801759233|0.007716923047133581|  0.001073378471565...|0.05922369734082203| 1.051270460351334...|0.1433171794454236|0.12863207103209212|2.206773655044501E-4| 0.07687300724511986|  0.06909302264882183|0.002760795630475...|3.227016683272365E-4|3.153811381054003...|4.360267860015638...|0.7965690901625619|       0.006975715790847042|       9.546118293530944E-5|                            0.0|          1.051270460351334...|0.44144101224673404| 0.2436363982719707|0.33333683756820115|\n",
            "| stddev|1.4784820676192205|       5.231605994433399|  4.175300990480183|2.874622371978464|19.982953002611346| 1.705296872213323|8.273727000614237| 0.981122879527265|0.45841689492887183| 0.5508654220264712|1.9770325758318017|4.648153914432463|4.047594012671122|4.070131333509137|0.6272175997417205|0.4772268278358688|1.7598391433749458|   0.3947837990861316| 0.719190420264832|0.4658378152323905| 0.13292408251469345| 0.08910156548510388|  0.033411590726066205|0.25841489857874084| 0.003242330119453...|0.3919981659086218|0.38630405068374757|0.014411242205116368| 0.27363291200409023|  0.25892680502220045| 0.05293739335997899| 0.01931947537005825| 0.00561582146277999|0.019687975284271027|0.9337439925478986|        0.08246460275112508|       0.009496726650237364|                            0.0|          0.003242330119453...|  0.478107406206402|0.41216016408755385|0.47140823760478523|\n",
            "|    min|                 1|                       1|                  1|                1|                 1|                 0|                1|                 0|                  0|                  0|                 1|                0|                0|                0|               0.0|               0.0|               0.0|                  0.0|               0.0|               0.0|                 0.0|                 0.0|                   0.0|                0.0|                  0.0|               0.0|                0.0|                 0.0|                 0.0|                  0.0|                 0.0|                 0.0|                 0.0|                 0.0|               0.0|                        0.0|                        0.0|                            0.0|                           0.0|                0.0|                0.0|                0.0|\n",
            "|    max|                 8|                      28|                 25|               14|               132|                 6|               81|                42|                 42|                 12|                16|               17|               17|               17|               4.0|               1.0|               9.0|                  3.0|               3.0|               3.0|                 3.0|                 3.0|                   3.0|                3.0|                  1.0|               3.0|                3.0|                 1.0|                 3.0|                  3.0|                 2.0|                 3.0|                 1.0|                 1.0|               3.0|                        3.0|                        1.0|                            0.0|                           1.0|                1.0|                1.0|                1.0|\n",
            "+-------+------------------+------------------------+-------------------+-----------------+------------------+------------------+-----------------+------------------+-------------------+-------------------+------------------+-----------------+-----------------+-----------------+------------------+------------------+------------------+---------------------+------------------+------------------+--------------------+--------------------+----------------------+-------------------+---------------------+------------------+-------------------+--------------------+--------------------+---------------------+--------------------+--------------------+--------------------+--------------------+------------------+---------------------------+---------------------------+-------------------------------+------------------------------+-------------------+-------------------+-------------------+\n",
            "\n"
          ]
        }
      ]
    },
    {
      "cell_type": "markdown",
      "metadata": {
        "id": "pCzzF6PwYRyv"
      },
      "source": [
        "### Model Definition"
      ]
    },
    {
      "cell_type": "code",
      "execution_count": null,
      "metadata": {
        "id": "nwDfysQZz6nQ"
      },
      "outputs": [],
      "source": [
        "assembler = VectorAssembler(inputCols=cols, outputCol='features')\n",
        "assembled_df = assembler.transform(df_resampled)"
      ]
    },
    {
      "cell_type": "code",
      "execution_count": null,
      "metadata": {
        "id": "6BONry7Qz8x_"
      },
      "outputs": [],
      "source": [
        "train_data, test_data = assembled_df.randomSplit([0.7, 0.3], seed=42)"
      ]
    },
    {
      "cell_type": "code",
      "execution_count": null,
      "metadata": {
        "id": "BD0CxlRo7W_F"
      },
      "outputs": [],
      "source": [
        "class PolynomialLogisticRegression:\n",
        "  def __init__(self,spark=spark,labelCol = labelCol, featuresCol=featuresCol,degree = 3):\n",
        "    self.spark = spark\n",
        "    self.degree = degree\n",
        "    self.featuresCol = featuresCol\n",
        "    self.labelCol = labelCol\n",
        "    self.fit = None\n",
        "    self.poly_expansion = PolynomialExpansion(degree=degree, inputCol=featuresCol, outputCol=\"poly_features\")\n",
        "\n",
        "  def fit_(self,data):\n",
        "    # Create a PolynomialExpansion transformer to generate polynomial features\n",
        "    train_poly = self.poly_expansion.transform(data)\n",
        "    reg = LogisticRegression(featuresCol='poly_features', labelCol=labelCol, maxIter=10)\n",
        "    self.fit= reg.fit(train_poly)\n",
        "    return self\n",
        "\n",
        "  def transform_(self,data):\n",
        "    try:\n",
        "      if(self.fit == None):\n",
        "        raise \"You should call the method fit() first\"\n",
        "      test_poly = self.poly_expansion.transform(data)\n",
        "      preds = self.fit.transform(test_poly)\n",
        "      return preds\n",
        "    except Exception as e:\n",
        "      print(e)"
      ]
    },
    {
      "cell_type": "code",
      "execution_count": null,
      "metadata": {
        "id": "RY3Ad01HYRyw"
      },
      "outputs": [],
      "source": [
        "# Logistic Regression\n",
        "lr = LogisticRegression(featuresCol=featuresCol, labelCol=labelCol, maxIter=10)\n",
        "\n",
        "# Polynomial Logistic Regression\n",
        "plr = PolynomialLogisticRegression(featuresCol = featuresCol, labelCol=labelCol)\n",
        "\n",
        "# Decision Tree\n",
        "dt = DecisionTreeClassifier(featuresCol=featuresCol, labelCol=labelCol)\n",
        "\n",
        "# Random Forest binary classification\n",
        "rf = RandomForestClassifier(featuresCol=featuresCol, labelCol=labelCol, numTrees=100, seed=random_state)\n",
        "\n",
        "# GBTClassifier for binary classification\n",
        "gbt = GBTClassifier(featuresCol=featuresCol, labelCol=labelCol, maxIter=10, seed=random_state)\n",
        "\n",
        "# Support Vector Machines (SVM) for binary classification\n",
        "svm = LinearSVC(featuresCol=featuresCol, labelCol=labelCol)\n",
        "\n",
        "# Naive Bayes\n",
        "nb = NaiveBayes(featuresCol=featuresCol, labelCol=labelCol)\n",
        "\n",
        "# MultilayerPerceptron\n",
        "nn = MultilayerPerceptronClassifier(featuresCol=featuresCol, labelCol=labelCol, layers=[len(cols), len(cols), 2])\n",
        "\n",
        "models = [lr,plr,dt,rf,gbt,svm,nb,nn]"
      ]
    },
    {
      "cell_type": "markdown",
      "metadata": {
        "id": "HQCwCZ1W1zcn"
      },
      "source": [
        "### Metric"
      ]
    },
    {
      "cell_type": "code",
      "execution_count": null,
      "metadata": {
        "id": "wwV7_hg2FuzP"
      },
      "outputs": [],
      "source": [
        "def metric(data, labelCol=labelCol,labelPred='prediction'):\n",
        "  # Calculate True Positive, False Positive, and False Negative\n",
        "  true_positive = data.filter((data[labelCol] == 1) & (data[labelPred] == 1)).count()\n",
        "  false_positive = data.filter((data[labelCol] == 0) & (data[labelPred] == 1)).count()\n",
        "  false_negative = data.filter((data[labelCol] == 1) & (data[labelPred] == 0)).count()\n",
        "\n",
        "  # Small constant to prevent divisions by 0\n",
        "  alpha = 0.001\n",
        "\n",
        "  # Calculate Sensitivity, Precision, and Recall\n",
        "  recall = round(true_positive / (true_positive + false_negative + alpha),3)\n",
        "  precision = round(true_positive / (true_positive + false_positive + alpha),3)\n",
        "  f1_score = round(2*precision*recall/(precision + recall + alpha),3)\n",
        "\n",
        "  # EValuator\n",
        "  evaluator = BinaryClassificationEvaluator(labelCol=labelCol)\n",
        "\n",
        "  # Accuracy\n",
        "  accuracy = round(evaluator.evaluate(data),3)\n",
        "  return {\n",
        "          'accuracy':accuracy,\n",
        "          'precision':precision,\n",
        "          'recall':recall,\n",
        "          'F1_score': f1_score\n",
        "          }"
      ]
    },
    {
      "cell_type": "markdown",
      "metadata": {
        "id": "CBqH6JAusCb-"
      },
      "source": [
        "### Training"
      ]
    },
    {
      "cell_type": "code",
      "execution_count": null,
      "metadata": {
        "id": "5fUnDfJAr85H"
      },
      "outputs": [],
      "source": [
        "# Logistic regression\n",
        "lr_preds = lr.fit(train_data).transform(test_data)\n",
        "\n",
        "# Polynomial Logistic Regression\n",
        "plr_preds = plr.fit_(train_data).transform_(test_data)\n",
        "\n",
        "# Decision Tree\n",
        "dt_preds = dt.fit(train_data).transform(test_data)\n",
        "\n",
        "# Random Forest\n",
        "rf_preds = rf.fit(train_data).transform(test_data)\n",
        "\n",
        "# Gradient boost\n",
        "gbt_preds = gbt.fit(train_data).transform(test_data)\n",
        "\n",
        "# Support Vector Machine\n",
        "svm_preds = svm.fit(train_data).transform(test_data)\n",
        "\n",
        "# Navive Bayes\n",
        "nb_preds = nb.fit(train_data).transform(test_data)\n",
        "\n",
        "# MultiLayerPerceptron\n",
        "nn_preds = nn.fit(train_data).transform(test_data)\n",
        "\n",
        "preds = [lr_preds,plr_preds,dt_preds,rf_preds,gbt_preds,svm_preds,nb_preds,nn_preds]"
      ]
    },
    {
      "cell_type": "code",
      "execution_count": null,
      "metadata": {
        "id": "ArIcZV03r1lb"
      },
      "outputs": [],
      "source": [
        "results = [{'Model':type(models[i]).__name__,**metric(preds[i])} for i in range(len(preds))]"
      ]
    },
    {
      "cell_type": "code",
      "execution_count": null,
      "metadata": {
        "colab": {
          "base_uri": "https://localhost:8080/"
        },
        "id": "cnfOBafpsK6M",
        "outputId": "9e3ec364-31d3-4f19-b6af-7a57a2aecce2"
      },
      "outputs": [
        {
          "output_type": "stream",
          "name": "stdout",
          "text": [
            "+--------------------+--------+--------+---------+------+\n",
            "|               Model|accuracy|F1_score|precision|recall|\n",
            "+--------------------+--------+--------+---------+------+\n",
            "|  LogisticRegression|   0.622|   0.031|    0.412| 0.016|\n",
            "|PolynomialLogisti...|   0.805|   0.507|    0.926| 0.349|\n",
            "|DecisionTreeClass...|   0.714|   0.769|      1.0| 0.625|\n",
            "|RandomForestClass...|   0.888|   0.685|      1.0| 0.521|\n",
            "|       GBTClassifier|   0.898|   0.826|      1.0| 0.705|\n",
            "|           LinearSVC|   0.567|     0.0|      0.0|   0.0|\n",
            "|          NaiveBayes|   0.565|   0.323|    0.414| 0.265|\n",
            "|MultilayerPercept...|   0.598|   0.117|    0.511| 0.066|\n",
            "+--------------------+--------+--------+---------+------+\n",
            "\n"
          ]
        }
      ],
      "source": [
        "results_ = spark.createDataFrame(results)\n",
        "results_.select(['Model','accuracy','F1_score','precision','recall']).show()"
      ]
    }
  ],
  "metadata": {
    "colab": {
      "provenance": []
    },
    "kernelspec": {
      "display_name": "Python 3",
      "name": "python3"
    },
    "language_info": {
      "codemirror_mode": {
        "name": "ipython",
        "version": 3
      },
      "file_extension": ".py",
      "mimetype": "text/x-python",
      "name": "python",
      "nbconvert_exporter": "python",
      "pygments_lexer": "ipython3",
      "version": "3.10.12"
    },
    "vscode": {
      "interpreter": {
        "hash": "916dbcbb3f70747c44a77c7bcd40155683ae19c65e1c03b4aa3499c5328201f1"
      }
    }
  },
  "nbformat": 4,
  "nbformat_minor": 0
}